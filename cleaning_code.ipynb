{
 "cells": [
  {
   "cell_type": "markdown",
   "id": "b56ef887",
   "metadata": {},
   "source": [
    "# US Consumer Finance Complaints Analysis"
   ]
  },
  {
   "cell_type": "code",
   "execution_count": null,
   "id": "0402361c",
   "metadata": {},
   "outputs": [
    {
     "data": {
      "text/html": [
       "        <script type=\"text/javascript\">\n",
       "        window.PlotlyConfig = {MathJaxConfig: 'local'};\n",
       "        if (window.MathJax && window.MathJax.Hub && window.MathJax.Hub.Config) {window.MathJax.Hub.Config({SVG: {font: \"STIX-Web\"}});}\n",
       "        </script>\n",
       "        <script type=\"module\">import \"https://cdn.plot.ly/plotly-3.1.0.min\"</script>\n",
       "        "
      ]
     },
     "metadata": {},
     "output_type": "display_data"
    }
   ],
   "source": [
    "import pandas as pd\n",
    "import numpy as np\n",
    "import matplotlib.pyplot as plt\n",
    "import seaborn as sns\n",
    "import squarify\n",
    "import plotly.express as px\n",
    "from plotly.offline import download_plotlyjs, init_notebook_mode, plot, iplot\n",
    "import cufflinks as cf\n",
    "%matplotlib inline\n",
    "cf.go_offline()  \n",
    "\n"
   ]
  },
  {
   "cell_type": "markdown",
   "id": "9272f66c",
   "metadata": {},
   "source": [
    "### The dataset contains consumer complaints about financial products and services collected and published by the CFPB"
   ]
  },
  {
   "cell_type": "code",
   "execution_count": 218,
   "id": "b20f027f",
   "metadata": {},
   "outputs": [
    {
     "data": {
      "text/html": [
       "<div>\n",
       "<style scoped>\n",
       "    .dataframe tbody tr th:only-of-type {\n",
       "        vertical-align: middle;\n",
       "    }\n",
       "\n",
       "    .dataframe tbody tr th {\n",
       "        vertical-align: top;\n",
       "    }\n",
       "\n",
       "    .dataframe thead th {\n",
       "        text-align: right;\n",
       "    }\n",
       "</style>\n",
       "<table border=\"1\" class=\"dataframe\">\n",
       "  <thead>\n",
       "    <tr style=\"text-align: right;\">\n",
       "      <th></th>\n",
       "      <th>date_received</th>\n",
       "      <th>product</th>\n",
       "      <th>sub_product</th>\n",
       "      <th>issue</th>\n",
       "      <th>sub_issue</th>\n",
       "      <th>consumer_complaint_narrative</th>\n",
       "      <th>company_public_response</th>\n",
       "      <th>company</th>\n",
       "      <th>state</th>\n",
       "      <th>zipcode</th>\n",
       "      <th>tags</th>\n",
       "      <th>consumer_consent_provided</th>\n",
       "      <th>submitted_via</th>\n",
       "      <th>date_sent_to_company</th>\n",
       "      <th>company_response_to_consumer</th>\n",
       "      <th>timely_response</th>\n",
       "      <th>consumer_disputed?</th>\n",
       "      <th>complaint_id</th>\n",
       "    </tr>\n",
       "  </thead>\n",
       "  <tbody>\n",
       "    <tr>\n",
       "      <th>0</th>\n",
       "      <td>08/30/2013</td>\n",
       "      <td>Mortgage</td>\n",
       "      <td>Other mortgage</td>\n",
       "      <td>Loan modification,collection,foreclosure</td>\n",
       "      <td>NaN</td>\n",
       "      <td>NaN</td>\n",
       "      <td>NaN</td>\n",
       "      <td>U.S. Bancorp</td>\n",
       "      <td>CA</td>\n",
       "      <td>95993</td>\n",
       "      <td>NaN</td>\n",
       "      <td>NaN</td>\n",
       "      <td>Referral</td>\n",
       "      <td>09/03/2013</td>\n",
       "      <td>Closed with explanation</td>\n",
       "      <td>Yes</td>\n",
       "      <td>Yes</td>\n",
       "      <td>511074</td>\n",
       "    </tr>\n",
       "    <tr>\n",
       "      <th>1</th>\n",
       "      <td>08/30/2013</td>\n",
       "      <td>Mortgage</td>\n",
       "      <td>Other mortgage</td>\n",
       "      <td>Loan servicing, payments, escrow account</td>\n",
       "      <td>NaN</td>\n",
       "      <td>NaN</td>\n",
       "      <td>NaN</td>\n",
       "      <td>Wells Fargo &amp; Company</td>\n",
       "      <td>CA</td>\n",
       "      <td>91104</td>\n",
       "      <td>NaN</td>\n",
       "      <td>NaN</td>\n",
       "      <td>Referral</td>\n",
       "      <td>09/03/2013</td>\n",
       "      <td>Closed with explanation</td>\n",
       "      <td>Yes</td>\n",
       "      <td>Yes</td>\n",
       "      <td>511080</td>\n",
       "    </tr>\n",
       "    <tr>\n",
       "      <th>2</th>\n",
       "      <td>08/30/2013</td>\n",
       "      <td>Credit reporting</td>\n",
       "      <td>NaN</td>\n",
       "      <td>Incorrect information on credit report</td>\n",
       "      <td>Account status</td>\n",
       "      <td>NaN</td>\n",
       "      <td>NaN</td>\n",
       "      <td>Wells Fargo &amp; Company</td>\n",
       "      <td>NY</td>\n",
       "      <td>11764</td>\n",
       "      <td>NaN</td>\n",
       "      <td>NaN</td>\n",
       "      <td>Postal mail</td>\n",
       "      <td>09/18/2013</td>\n",
       "      <td>Closed with explanation</td>\n",
       "      <td>Yes</td>\n",
       "      <td>No</td>\n",
       "      <td>510473</td>\n",
       "    </tr>\n",
       "    <tr>\n",
       "      <th>3</th>\n",
       "      <td>08/30/2013</td>\n",
       "      <td>Student loan</td>\n",
       "      <td>Non-federal student loan</td>\n",
       "      <td>Repaying your loan</td>\n",
       "      <td>Repaying your loan</td>\n",
       "      <td>NaN</td>\n",
       "      <td>NaN</td>\n",
       "      <td>Navient Solutions, Inc.</td>\n",
       "      <td>MD</td>\n",
       "      <td>21402</td>\n",
       "      <td>NaN</td>\n",
       "      <td>NaN</td>\n",
       "      <td>Email</td>\n",
       "      <td>08/30/2013</td>\n",
       "      <td>Closed with explanation</td>\n",
       "      <td>Yes</td>\n",
       "      <td>Yes</td>\n",
       "      <td>510326</td>\n",
       "    </tr>\n",
       "    <tr>\n",
       "      <th>4</th>\n",
       "      <td>08/30/2013</td>\n",
       "      <td>Debt collection</td>\n",
       "      <td>Credit card</td>\n",
       "      <td>False statements or representation</td>\n",
       "      <td>Attempted to collect wrong amount</td>\n",
       "      <td>NaN</td>\n",
       "      <td>NaN</td>\n",
       "      <td>Resurgent Capital Services L.P.</td>\n",
       "      <td>GA</td>\n",
       "      <td>30106</td>\n",
       "      <td>NaN</td>\n",
       "      <td>NaN</td>\n",
       "      <td>Web</td>\n",
       "      <td>08/30/2013</td>\n",
       "      <td>Closed with explanation</td>\n",
       "      <td>Yes</td>\n",
       "      <td>Yes</td>\n",
       "      <td>511067</td>\n",
       "    </tr>\n",
       "    <tr>\n",
       "      <th>...</th>\n",
       "      <td>...</td>\n",
       "      <td>...</td>\n",
       "      <td>...</td>\n",
       "      <td>...</td>\n",
       "      <td>...</td>\n",
       "      <td>...</td>\n",
       "      <td>...</td>\n",
       "      <td>...</td>\n",
       "      <td>...</td>\n",
       "      <td>...</td>\n",
       "      <td>...</td>\n",
       "      <td>...</td>\n",
       "      <td>...</td>\n",
       "      <td>...</td>\n",
       "      <td>...</td>\n",
       "      <td>...</td>\n",
       "      <td>...</td>\n",
       "      <td>...</td>\n",
       "    </tr>\n",
       "    <tr>\n",
       "      <th>555952</th>\n",
       "      <td>07/01/2014</td>\n",
       "      <td>Mortgage</td>\n",
       "      <td>Other mortgage</td>\n",
       "      <td>Loan modification,collection,foreclosure</td>\n",
       "      <td>NaN</td>\n",
       "      <td>NaN</td>\n",
       "      <td>NaN</td>\n",
       "      <td>Bank of America</td>\n",
       "      <td>NaN</td>\n",
       "      <td>NaN</td>\n",
       "      <td>NaN</td>\n",
       "      <td>NaN</td>\n",
       "      <td>Referral</td>\n",
       "      <td>07/07/2014</td>\n",
       "      <td>Closed with explanation</td>\n",
       "      <td>Yes</td>\n",
       "      <td>No</td>\n",
       "      <td>919529</td>\n",
       "    </tr>\n",
       "    <tr>\n",
       "      <th>555953</th>\n",
       "      <td>07/01/2014</td>\n",
       "      <td>Mortgage</td>\n",
       "      <td>Other mortgage</td>\n",
       "      <td>Loan servicing, payments, escrow account</td>\n",
       "      <td>NaN</td>\n",
       "      <td>NaN</td>\n",
       "      <td>NaN</td>\n",
       "      <td>Residential Credit Solutions</td>\n",
       "      <td>NaN</td>\n",
       "      <td>NaN</td>\n",
       "      <td>Older American, Servicemember</td>\n",
       "      <td>NaN</td>\n",
       "      <td>Referral</td>\n",
       "      <td>07/23/2014</td>\n",
       "      <td>Closed with explanation</td>\n",
       "      <td>No</td>\n",
       "      <td>No</td>\n",
       "      <td>918447</td>\n",
       "    </tr>\n",
       "    <tr>\n",
       "      <th>555954</th>\n",
       "      <td>07/10/2012</td>\n",
       "      <td>Mortgage</td>\n",
       "      <td>Conventional fixed mortgage</td>\n",
       "      <td>Loan modification,collection,foreclosure</td>\n",
       "      <td>NaN</td>\n",
       "      <td>NaN</td>\n",
       "      <td>NaN</td>\n",
       "      <td>BB&amp;T Financial</td>\n",
       "      <td>NaN</td>\n",
       "      <td>NaN</td>\n",
       "      <td>NaN</td>\n",
       "      <td>NaN</td>\n",
       "      <td>Phone</td>\n",
       "      <td>11/18/2013</td>\n",
       "      <td>Closed with explanation</td>\n",
       "      <td>Yes</td>\n",
       "      <td>No</td>\n",
       "      <td>114550</td>\n",
       "    </tr>\n",
       "    <tr>\n",
       "      <th>555955</th>\n",
       "      <td>04/14/2015</td>\n",
       "      <td>Debt collection</td>\n",
       "      <td>I do not know</td>\n",
       "      <td>Communication tactics</td>\n",
       "      <td>Frequent or repeated calls</td>\n",
       "      <td>NaN</td>\n",
       "      <td>NaN</td>\n",
       "      <td>Global Recovery Group</td>\n",
       "      <td>NaN</td>\n",
       "      <td>NaN</td>\n",
       "      <td>NaN</td>\n",
       "      <td>NaN</td>\n",
       "      <td>Phone</td>\n",
       "      <td>04/14/2015</td>\n",
       "      <td>Untimely response</td>\n",
       "      <td>No</td>\n",
       "      <td>No</td>\n",
       "      <td>1329963</td>\n",
       "    </tr>\n",
       "    <tr>\n",
       "      <th>555956</th>\n",
       "      <td>08/14/2014</td>\n",
       "      <td>Debt collection</td>\n",
       "      <td>I do not know</td>\n",
       "      <td>Cont'd attempts collect debt not owed</td>\n",
       "      <td>Debt is not mine</td>\n",
       "      <td>NaN</td>\n",
       "      <td>NaN</td>\n",
       "      <td>CCS Financial Services, Inc.</td>\n",
       "      <td>NaN</td>\n",
       "      <td>NaN</td>\n",
       "      <td>NaN</td>\n",
       "      <td>NaN</td>\n",
       "      <td>Phone</td>\n",
       "      <td>08/18/2014</td>\n",
       "      <td>Closed with explanation</td>\n",
       "      <td>Yes</td>\n",
       "      <td>No</td>\n",
       "      <td>984116</td>\n",
       "    </tr>\n",
       "  </tbody>\n",
       "</table>\n",
       "<p>555957 rows × 18 columns</p>\n",
       "</div>"
      ],
      "text/plain": [
       "       date_received           product                  sub_product  \\\n",
       "0         08/30/2013          Mortgage               Other mortgage   \n",
       "1         08/30/2013          Mortgage               Other mortgage   \n",
       "2         08/30/2013  Credit reporting                          NaN   \n",
       "3         08/30/2013      Student loan     Non-federal student loan   \n",
       "4         08/30/2013   Debt collection                  Credit card   \n",
       "...              ...               ...                          ...   \n",
       "555952    07/01/2014          Mortgage               Other mortgage   \n",
       "555953    07/01/2014          Mortgage               Other mortgage   \n",
       "555954    07/10/2012          Mortgage  Conventional fixed mortgage   \n",
       "555955    04/14/2015   Debt collection                I do not know   \n",
       "555956    08/14/2014   Debt collection                I do not know   \n",
       "\n",
       "                                           issue  \\\n",
       "0       Loan modification,collection,foreclosure   \n",
       "1       Loan servicing, payments, escrow account   \n",
       "2         Incorrect information on credit report   \n",
       "3                             Repaying your loan   \n",
       "4             False statements or representation   \n",
       "...                                          ...   \n",
       "555952  Loan modification,collection,foreclosure   \n",
       "555953  Loan servicing, payments, escrow account   \n",
       "555954  Loan modification,collection,foreclosure   \n",
       "555955                     Communication tactics   \n",
       "555956     Cont'd attempts collect debt not owed   \n",
       "\n",
       "                                sub_issue consumer_complaint_narrative  \\\n",
       "0                                     NaN                          NaN   \n",
       "1                                     NaN                          NaN   \n",
       "2                          Account status                          NaN   \n",
       "3                      Repaying your loan                          NaN   \n",
       "4       Attempted to collect wrong amount                          NaN   \n",
       "...                                   ...                          ...   \n",
       "555952                                NaN                          NaN   \n",
       "555953                                NaN                          NaN   \n",
       "555954                                NaN                          NaN   \n",
       "555955         Frequent or repeated calls                          NaN   \n",
       "555956                   Debt is not mine                          NaN   \n",
       "\n",
       "       company_public_response                          company state zipcode  \\\n",
       "0                          NaN                     U.S. Bancorp    CA   95993   \n",
       "1                          NaN            Wells Fargo & Company    CA   91104   \n",
       "2                          NaN            Wells Fargo & Company    NY   11764   \n",
       "3                          NaN          Navient Solutions, Inc.    MD   21402   \n",
       "4                          NaN  Resurgent Capital Services L.P.    GA   30106   \n",
       "...                        ...                              ...   ...     ...   \n",
       "555952                     NaN                  Bank of America   NaN     NaN   \n",
       "555953                     NaN     Residential Credit Solutions   NaN     NaN   \n",
       "555954                     NaN                   BB&T Financial   NaN     NaN   \n",
       "555955                     NaN            Global Recovery Group   NaN     NaN   \n",
       "555956                     NaN     CCS Financial Services, Inc.   NaN     NaN   \n",
       "\n",
       "                                 tags consumer_consent_provided submitted_via  \\\n",
       "0                                 NaN                       NaN      Referral   \n",
       "1                                 NaN                       NaN      Referral   \n",
       "2                                 NaN                       NaN   Postal mail   \n",
       "3                                 NaN                       NaN         Email   \n",
       "4                                 NaN                       NaN           Web   \n",
       "...                               ...                       ...           ...   \n",
       "555952                            NaN                       NaN      Referral   \n",
       "555953  Older American, Servicemember                       NaN      Referral   \n",
       "555954                            NaN                       NaN         Phone   \n",
       "555955                            NaN                       NaN         Phone   \n",
       "555956                            NaN                       NaN         Phone   \n",
       "\n",
       "       date_sent_to_company company_response_to_consumer timely_response  \\\n",
       "0                09/03/2013      Closed with explanation             Yes   \n",
       "1                09/03/2013      Closed with explanation             Yes   \n",
       "2                09/18/2013      Closed with explanation             Yes   \n",
       "3                08/30/2013      Closed with explanation             Yes   \n",
       "4                08/30/2013      Closed with explanation             Yes   \n",
       "...                     ...                          ...             ...   \n",
       "555952           07/07/2014      Closed with explanation             Yes   \n",
       "555953           07/23/2014      Closed with explanation              No   \n",
       "555954           11/18/2013      Closed with explanation             Yes   \n",
       "555955           04/14/2015            Untimely response              No   \n",
       "555956           08/18/2014      Closed with explanation             Yes   \n",
       "\n",
       "       consumer_disputed?  complaint_id  \n",
       "0                     Yes        511074  \n",
       "1                     Yes        511080  \n",
       "2                      No        510473  \n",
       "3                     Yes        510326  \n",
       "4                     Yes        511067  \n",
       "...                   ...           ...  \n",
       "555952                 No        919529  \n",
       "555953                 No        918447  \n",
       "555954                 No        114550  \n",
       "555955                 No       1329963  \n",
       "555956                 No        984116  \n",
       "\n",
       "[555957 rows x 18 columns]"
      ]
     },
     "execution_count": 218,
     "metadata": {},
     "output_type": "execute_result"
    }
   ],
   "source": [
    "#Reading the data and storing it in a variable \n",
    "df=pd.read_csv('consumer_complaints.csv',low_memory=False)\n",
    "df"
   ]
  },
  {
   "cell_type": "code",
   "execution_count": 219,
   "id": "5b5780df",
   "metadata": {},
   "outputs": [
    {
     "data": {
      "text/plain": [
       "date_received                   object\n",
       "product                         object\n",
       "sub_product                     object\n",
       "issue                           object\n",
       "sub_issue                       object\n",
       "consumer_complaint_narrative    object\n",
       "company_public_response         object\n",
       "company                         object\n",
       "state                           object\n",
       "zipcode                         object\n",
       "tags                            object\n",
       "consumer_consent_provided       object\n",
       "submitted_via                   object\n",
       "date_sent_to_company            object\n",
       "company_response_to_consumer    object\n",
       "timely_response                 object\n",
       "consumer_disputed?              object\n",
       "complaint_id                     int64\n",
       "dtype: object"
      ]
     },
     "execution_count": 219,
     "metadata": {},
     "output_type": "execute_result"
    }
   ],
   "source": [
    "#checking for datatypes\n",
    "df.dtypes"
   ]
  },
  {
   "cell_type": "code",
   "execution_count": 220,
   "id": "2f854219",
   "metadata": {},
   "outputs": [
    {
     "name": "stdout",
     "output_type": "stream",
     "text": [
      "The Datset has 555957 rows and 18 columns\n"
     ]
    }
   ],
   "source": [
    "##View the shape of the dataset\n",
    "rows=df.shape[0]\n",
    "columns=df.shape[1]\n",
    "print(f'The Datset has {rows} rows and {columns} columns')"
   ]
  },
  {
   "cell_type": "markdown",
   "id": "2243aebc",
   "metadata": {},
   "source": [
    "### Observing the Data"
   ]
  },
  {
   "cell_type": "code",
   "execution_count": 221,
   "id": "53374c4a",
   "metadata": {},
   "outputs": [
    {
     "data": {
      "text/html": [
       "<div>\n",
       "<style scoped>\n",
       "    .dataframe tbody tr th:only-of-type {\n",
       "        vertical-align: middle;\n",
       "    }\n",
       "\n",
       "    .dataframe tbody tr th {\n",
       "        vertical-align: top;\n",
       "    }\n",
       "\n",
       "    .dataframe thead th {\n",
       "        text-align: right;\n",
       "    }\n",
       "</style>\n",
       "<table border=\"1\" class=\"dataframe\">\n",
       "  <thead>\n",
       "    <tr style=\"text-align: right;\">\n",
       "      <th></th>\n",
       "      <th>date_received</th>\n",
       "      <th>product</th>\n",
       "      <th>sub_product</th>\n",
       "      <th>issue</th>\n",
       "      <th>sub_issue</th>\n",
       "      <th>consumer_complaint_narrative</th>\n",
       "      <th>company_public_response</th>\n",
       "      <th>company</th>\n",
       "      <th>state</th>\n",
       "      <th>zipcode</th>\n",
       "      <th>tags</th>\n",
       "      <th>consumer_consent_provided</th>\n",
       "      <th>submitted_via</th>\n",
       "      <th>date_sent_to_company</th>\n",
       "      <th>company_response_to_consumer</th>\n",
       "      <th>timely_response</th>\n",
       "      <th>consumer_disputed?</th>\n",
       "      <th>complaint_id</th>\n",
       "    </tr>\n",
       "  </thead>\n",
       "  <tbody>\n",
       "    <tr>\n",
       "      <th>0</th>\n",
       "      <td>08/30/2013</td>\n",
       "      <td>Mortgage</td>\n",
       "      <td>Other mortgage</td>\n",
       "      <td>Loan modification,collection,foreclosure</td>\n",
       "      <td>NaN</td>\n",
       "      <td>NaN</td>\n",
       "      <td>NaN</td>\n",
       "      <td>U.S. Bancorp</td>\n",
       "      <td>CA</td>\n",
       "      <td>95993</td>\n",
       "      <td>NaN</td>\n",
       "      <td>NaN</td>\n",
       "      <td>Referral</td>\n",
       "      <td>09/03/2013</td>\n",
       "      <td>Closed with explanation</td>\n",
       "      <td>Yes</td>\n",
       "      <td>Yes</td>\n",
       "      <td>511074</td>\n",
       "    </tr>\n",
       "    <tr>\n",
       "      <th>1</th>\n",
       "      <td>08/30/2013</td>\n",
       "      <td>Mortgage</td>\n",
       "      <td>Other mortgage</td>\n",
       "      <td>Loan servicing, payments, escrow account</td>\n",
       "      <td>NaN</td>\n",
       "      <td>NaN</td>\n",
       "      <td>NaN</td>\n",
       "      <td>Wells Fargo &amp; Company</td>\n",
       "      <td>CA</td>\n",
       "      <td>91104</td>\n",
       "      <td>NaN</td>\n",
       "      <td>NaN</td>\n",
       "      <td>Referral</td>\n",
       "      <td>09/03/2013</td>\n",
       "      <td>Closed with explanation</td>\n",
       "      <td>Yes</td>\n",
       "      <td>Yes</td>\n",
       "      <td>511080</td>\n",
       "    </tr>\n",
       "    <tr>\n",
       "      <th>2</th>\n",
       "      <td>08/30/2013</td>\n",
       "      <td>Credit reporting</td>\n",
       "      <td>NaN</td>\n",
       "      <td>Incorrect information on credit report</td>\n",
       "      <td>Account status</td>\n",
       "      <td>NaN</td>\n",
       "      <td>NaN</td>\n",
       "      <td>Wells Fargo &amp; Company</td>\n",
       "      <td>NY</td>\n",
       "      <td>11764</td>\n",
       "      <td>NaN</td>\n",
       "      <td>NaN</td>\n",
       "      <td>Postal mail</td>\n",
       "      <td>09/18/2013</td>\n",
       "      <td>Closed with explanation</td>\n",
       "      <td>Yes</td>\n",
       "      <td>No</td>\n",
       "      <td>510473</td>\n",
       "    </tr>\n",
       "    <tr>\n",
       "      <th>3</th>\n",
       "      <td>08/30/2013</td>\n",
       "      <td>Student loan</td>\n",
       "      <td>Non-federal student loan</td>\n",
       "      <td>Repaying your loan</td>\n",
       "      <td>Repaying your loan</td>\n",
       "      <td>NaN</td>\n",
       "      <td>NaN</td>\n",
       "      <td>Navient Solutions, Inc.</td>\n",
       "      <td>MD</td>\n",
       "      <td>21402</td>\n",
       "      <td>NaN</td>\n",
       "      <td>NaN</td>\n",
       "      <td>Email</td>\n",
       "      <td>08/30/2013</td>\n",
       "      <td>Closed with explanation</td>\n",
       "      <td>Yes</td>\n",
       "      <td>Yes</td>\n",
       "      <td>510326</td>\n",
       "    </tr>\n",
       "    <tr>\n",
       "      <th>4</th>\n",
       "      <td>08/30/2013</td>\n",
       "      <td>Debt collection</td>\n",
       "      <td>Credit card</td>\n",
       "      <td>False statements or representation</td>\n",
       "      <td>Attempted to collect wrong amount</td>\n",
       "      <td>NaN</td>\n",
       "      <td>NaN</td>\n",
       "      <td>Resurgent Capital Services L.P.</td>\n",
       "      <td>GA</td>\n",
       "      <td>30106</td>\n",
       "      <td>NaN</td>\n",
       "      <td>NaN</td>\n",
       "      <td>Web</td>\n",
       "      <td>08/30/2013</td>\n",
       "      <td>Closed with explanation</td>\n",
       "      <td>Yes</td>\n",
       "      <td>Yes</td>\n",
       "      <td>511067</td>\n",
       "    </tr>\n",
       "  </tbody>\n",
       "</table>\n",
       "</div>"
      ],
      "text/plain": [
       "  date_received           product               sub_product  \\\n",
       "0    08/30/2013          Mortgage            Other mortgage   \n",
       "1    08/30/2013          Mortgage            Other mortgage   \n",
       "2    08/30/2013  Credit reporting                       NaN   \n",
       "3    08/30/2013      Student loan  Non-federal student loan   \n",
       "4    08/30/2013   Debt collection               Credit card   \n",
       "\n",
       "                                      issue  \\\n",
       "0  Loan modification,collection,foreclosure   \n",
       "1  Loan servicing, payments, escrow account   \n",
       "2    Incorrect information on credit report   \n",
       "3                        Repaying your loan   \n",
       "4        False statements or representation   \n",
       "\n",
       "                           sub_issue consumer_complaint_narrative  \\\n",
       "0                                NaN                          NaN   \n",
       "1                                NaN                          NaN   \n",
       "2                     Account status                          NaN   \n",
       "3                 Repaying your loan                          NaN   \n",
       "4  Attempted to collect wrong amount                          NaN   \n",
       "\n",
       "  company_public_response                          company state zipcode tags  \\\n",
       "0                     NaN                     U.S. Bancorp    CA   95993  NaN   \n",
       "1                     NaN            Wells Fargo & Company    CA   91104  NaN   \n",
       "2                     NaN            Wells Fargo & Company    NY   11764  NaN   \n",
       "3                     NaN          Navient Solutions, Inc.    MD   21402  NaN   \n",
       "4                     NaN  Resurgent Capital Services L.P.    GA   30106  NaN   \n",
       "\n",
       "  consumer_consent_provided submitted_via date_sent_to_company  \\\n",
       "0                       NaN      Referral           09/03/2013   \n",
       "1                       NaN      Referral           09/03/2013   \n",
       "2                       NaN   Postal mail           09/18/2013   \n",
       "3                       NaN         Email           08/30/2013   \n",
       "4                       NaN           Web           08/30/2013   \n",
       "\n",
       "  company_response_to_consumer timely_response consumer_disputed?  \\\n",
       "0      Closed with explanation             Yes                Yes   \n",
       "1      Closed with explanation             Yes                Yes   \n",
       "2      Closed with explanation             Yes                 No   \n",
       "3      Closed with explanation             Yes                Yes   \n",
       "4      Closed with explanation             Yes                Yes   \n",
       "\n",
       "   complaint_id  \n",
       "0        511074  \n",
       "1        511080  \n",
       "2        510473  \n",
       "3        510326  \n",
       "4        511067  "
      ]
     },
     "execution_count": 221,
     "metadata": {},
     "output_type": "execute_result"
    }
   ],
   "source": [
    "#previewing the first 5 rows of the dataset\n",
    "df.head()"
   ]
  },
  {
   "cell_type": "code",
   "execution_count": 222,
   "id": "b0084490",
   "metadata": {},
   "outputs": [
    {
     "data": {
      "text/html": [
       "<div>\n",
       "<style scoped>\n",
       "    .dataframe tbody tr th:only-of-type {\n",
       "        vertical-align: middle;\n",
       "    }\n",
       "\n",
       "    .dataframe tbody tr th {\n",
       "        vertical-align: top;\n",
       "    }\n",
       "\n",
       "    .dataframe thead th {\n",
       "        text-align: right;\n",
       "    }\n",
       "</style>\n",
       "<table border=\"1\" class=\"dataframe\">\n",
       "  <thead>\n",
       "    <tr style=\"text-align: right;\">\n",
       "      <th></th>\n",
       "      <th>date_received</th>\n",
       "      <th>product</th>\n",
       "      <th>sub_product</th>\n",
       "      <th>issue</th>\n",
       "      <th>sub_issue</th>\n",
       "      <th>consumer_complaint_narrative</th>\n",
       "      <th>company_public_response</th>\n",
       "      <th>company</th>\n",
       "      <th>state</th>\n",
       "      <th>zipcode</th>\n",
       "      <th>tags</th>\n",
       "      <th>consumer_consent_provided</th>\n",
       "      <th>submitted_via</th>\n",
       "      <th>date_sent_to_company</th>\n",
       "      <th>company_response_to_consumer</th>\n",
       "      <th>timely_response</th>\n",
       "      <th>consumer_disputed?</th>\n",
       "      <th>complaint_id</th>\n",
       "    </tr>\n",
       "  </thead>\n",
       "  <tbody>\n",
       "    <tr>\n",
       "      <th>555952</th>\n",
       "      <td>07/01/2014</td>\n",
       "      <td>Mortgage</td>\n",
       "      <td>Other mortgage</td>\n",
       "      <td>Loan modification,collection,foreclosure</td>\n",
       "      <td>NaN</td>\n",
       "      <td>NaN</td>\n",
       "      <td>NaN</td>\n",
       "      <td>Bank of America</td>\n",
       "      <td>NaN</td>\n",
       "      <td>NaN</td>\n",
       "      <td>NaN</td>\n",
       "      <td>NaN</td>\n",
       "      <td>Referral</td>\n",
       "      <td>07/07/2014</td>\n",
       "      <td>Closed with explanation</td>\n",
       "      <td>Yes</td>\n",
       "      <td>No</td>\n",
       "      <td>919529</td>\n",
       "    </tr>\n",
       "    <tr>\n",
       "      <th>555953</th>\n",
       "      <td>07/01/2014</td>\n",
       "      <td>Mortgage</td>\n",
       "      <td>Other mortgage</td>\n",
       "      <td>Loan servicing, payments, escrow account</td>\n",
       "      <td>NaN</td>\n",
       "      <td>NaN</td>\n",
       "      <td>NaN</td>\n",
       "      <td>Residential Credit Solutions</td>\n",
       "      <td>NaN</td>\n",
       "      <td>NaN</td>\n",
       "      <td>Older American, Servicemember</td>\n",
       "      <td>NaN</td>\n",
       "      <td>Referral</td>\n",
       "      <td>07/23/2014</td>\n",
       "      <td>Closed with explanation</td>\n",
       "      <td>No</td>\n",
       "      <td>No</td>\n",
       "      <td>918447</td>\n",
       "    </tr>\n",
       "    <tr>\n",
       "      <th>555954</th>\n",
       "      <td>07/10/2012</td>\n",
       "      <td>Mortgage</td>\n",
       "      <td>Conventional fixed mortgage</td>\n",
       "      <td>Loan modification,collection,foreclosure</td>\n",
       "      <td>NaN</td>\n",
       "      <td>NaN</td>\n",
       "      <td>NaN</td>\n",
       "      <td>BB&amp;T Financial</td>\n",
       "      <td>NaN</td>\n",
       "      <td>NaN</td>\n",
       "      <td>NaN</td>\n",
       "      <td>NaN</td>\n",
       "      <td>Phone</td>\n",
       "      <td>11/18/2013</td>\n",
       "      <td>Closed with explanation</td>\n",
       "      <td>Yes</td>\n",
       "      <td>No</td>\n",
       "      <td>114550</td>\n",
       "    </tr>\n",
       "    <tr>\n",
       "      <th>555955</th>\n",
       "      <td>04/14/2015</td>\n",
       "      <td>Debt collection</td>\n",
       "      <td>I do not know</td>\n",
       "      <td>Communication tactics</td>\n",
       "      <td>Frequent or repeated calls</td>\n",
       "      <td>NaN</td>\n",
       "      <td>NaN</td>\n",
       "      <td>Global Recovery Group</td>\n",
       "      <td>NaN</td>\n",
       "      <td>NaN</td>\n",
       "      <td>NaN</td>\n",
       "      <td>NaN</td>\n",
       "      <td>Phone</td>\n",
       "      <td>04/14/2015</td>\n",
       "      <td>Untimely response</td>\n",
       "      <td>No</td>\n",
       "      <td>No</td>\n",
       "      <td>1329963</td>\n",
       "    </tr>\n",
       "    <tr>\n",
       "      <th>555956</th>\n",
       "      <td>08/14/2014</td>\n",
       "      <td>Debt collection</td>\n",
       "      <td>I do not know</td>\n",
       "      <td>Cont'd attempts collect debt not owed</td>\n",
       "      <td>Debt is not mine</td>\n",
       "      <td>NaN</td>\n",
       "      <td>NaN</td>\n",
       "      <td>CCS Financial Services, Inc.</td>\n",
       "      <td>NaN</td>\n",
       "      <td>NaN</td>\n",
       "      <td>NaN</td>\n",
       "      <td>NaN</td>\n",
       "      <td>Phone</td>\n",
       "      <td>08/18/2014</td>\n",
       "      <td>Closed with explanation</td>\n",
       "      <td>Yes</td>\n",
       "      <td>No</td>\n",
       "      <td>984116</td>\n",
       "    </tr>\n",
       "  </tbody>\n",
       "</table>\n",
       "</div>"
      ],
      "text/plain": [
       "       date_received          product                  sub_product  \\\n",
       "555952    07/01/2014         Mortgage               Other mortgage   \n",
       "555953    07/01/2014         Mortgage               Other mortgage   \n",
       "555954    07/10/2012         Mortgage  Conventional fixed mortgage   \n",
       "555955    04/14/2015  Debt collection                I do not know   \n",
       "555956    08/14/2014  Debt collection                I do not know   \n",
       "\n",
       "                                           issue                   sub_issue  \\\n",
       "555952  Loan modification,collection,foreclosure                         NaN   \n",
       "555953  Loan servicing, payments, escrow account                         NaN   \n",
       "555954  Loan modification,collection,foreclosure                         NaN   \n",
       "555955                     Communication tactics  Frequent or repeated calls   \n",
       "555956     Cont'd attempts collect debt not owed            Debt is not mine   \n",
       "\n",
       "       consumer_complaint_narrative company_public_response  \\\n",
       "555952                          NaN                     NaN   \n",
       "555953                          NaN                     NaN   \n",
       "555954                          NaN                     NaN   \n",
       "555955                          NaN                     NaN   \n",
       "555956                          NaN                     NaN   \n",
       "\n",
       "                             company state zipcode  \\\n",
       "555952               Bank of America   NaN     NaN   \n",
       "555953  Residential Credit Solutions   NaN     NaN   \n",
       "555954                BB&T Financial   NaN     NaN   \n",
       "555955         Global Recovery Group   NaN     NaN   \n",
       "555956  CCS Financial Services, Inc.   NaN     NaN   \n",
       "\n",
       "                                 tags consumer_consent_provided submitted_via  \\\n",
       "555952                            NaN                       NaN      Referral   \n",
       "555953  Older American, Servicemember                       NaN      Referral   \n",
       "555954                            NaN                       NaN         Phone   \n",
       "555955                            NaN                       NaN         Phone   \n",
       "555956                            NaN                       NaN         Phone   \n",
       "\n",
       "       date_sent_to_company company_response_to_consumer timely_response  \\\n",
       "555952           07/07/2014      Closed with explanation             Yes   \n",
       "555953           07/23/2014      Closed with explanation              No   \n",
       "555954           11/18/2013      Closed with explanation             Yes   \n",
       "555955           04/14/2015            Untimely response              No   \n",
       "555956           08/18/2014      Closed with explanation             Yes   \n",
       "\n",
       "       consumer_disputed?  complaint_id  \n",
       "555952                 No        919529  \n",
       "555953                 No        918447  \n",
       "555954                 No        114550  \n",
       "555955                 No       1329963  \n",
       "555956                 No        984116  "
      ]
     },
     "execution_count": 222,
     "metadata": {},
     "output_type": "execute_result"
    }
   ],
   "source": [
    "##previewing the last 5 rows of the dataset\n",
    "df.tail()"
   ]
  },
  {
   "cell_type": "code",
   "execution_count": 223,
   "id": "75943c6d",
   "metadata": {},
   "outputs": [
    {
     "data": {
      "text/plain": [
       "Index(['date_received', 'product', 'sub_product', 'issue', 'sub_issue',\n",
       "       'consumer_complaint_narrative', 'company_public_response', 'company',\n",
       "       'state', 'zipcode', 'tags', 'consumer_consent_provided',\n",
       "       'submitted_via', 'date_sent_to_company', 'company_response_to_consumer',\n",
       "       'timely_response', 'consumer_disputed?', 'complaint_id'],\n",
       "      dtype='object')"
      ]
     },
     "execution_count": 223,
     "metadata": {},
     "output_type": "execute_result"
    }
   ],
   "source": [
    "#listing the columns in the dataset\n",
    "df.columns"
   ]
  },
  {
   "cell_type": "code",
   "execution_count": 224,
   "id": "e2fdbe69",
   "metadata": {},
   "outputs": [
    {
     "name": "stdout",
     "output_type": "stream",
     "text": [
      "<class 'pandas.core.frame.DataFrame'>\n",
      "RangeIndex: 555957 entries, 0 to 555956\n",
      "Data columns (total 18 columns):\n",
      " #   Column                        Non-Null Count   Dtype \n",
      "---  ------                        --------------   ----- \n",
      " 0   date_received                 555957 non-null  object\n",
      " 1   product                       555957 non-null  object\n",
      " 2   sub_product                   397635 non-null  object\n",
      " 3   issue                         555957 non-null  object\n",
      " 4   sub_issue                     212622 non-null  object\n",
      " 5   consumer_complaint_narrative  66806 non-null   object\n",
      " 6   company_public_response       85124 non-null   object\n",
      " 7   company                       555957 non-null  object\n",
      " 8   state                         551070 non-null  object\n",
      " 9   zipcode                       551452 non-null  object\n",
      " 10  tags                          77959 non-null   object\n",
      " 11  consumer_consent_provided     123458 non-null  object\n",
      " 12  submitted_via                 555957 non-null  object\n",
      " 13  date_sent_to_company          555957 non-null  object\n",
      " 14  company_response_to_consumer  555957 non-null  object\n",
      " 15  timely_response               555957 non-null  object\n",
      " 16  consumer_disputed?            555957 non-null  object\n",
      " 17  complaint_id                  555957 non-null  int64 \n",
      "dtypes: int64(1), object(17)\n",
      "memory usage: 76.3+ MB\n"
     ]
    }
   ],
   "source": [
    "#information about the dataset\n",
    "df.info()"
   ]
  },
  {
   "cell_type": "code",
   "execution_count": 225,
   "id": "b3b6ff0e",
   "metadata": {},
   "outputs": [
    {
     "data": {
      "text/plain": [
       "date_received                        0\n",
       "product                              0\n",
       "sub_product                     158322\n",
       "issue                                0\n",
       "sub_issue                       343335\n",
       "consumer_complaint_narrative    489151\n",
       "company_public_response         470833\n",
       "company                              0\n",
       "state                             4887\n",
       "zipcode                           4505\n",
       "tags                            477998\n",
       "consumer_consent_provided       432499\n",
       "submitted_via                        0\n",
       "date_sent_to_company                 0\n",
       "company_response_to_consumer         0\n",
       "timely_response                      0\n",
       "consumer_disputed?                   0\n",
       "complaint_id                         0\n",
       "dtype: int64"
      ]
     },
     "execution_count": 225,
     "metadata": {},
     "output_type": "execute_result"
    }
   ],
   "source": [
    "#checking for missing values\n",
    "missing_values=df.isnull().sum()\n",
    "missing_values"
   ]
  },
  {
   "cell_type": "code",
   "execution_count": 226,
   "id": "3bb285b7",
   "metadata": {},
   "outputs": [
    {
     "name": "stdout",
     "output_type": "stream",
     "text": [
      "Total missing values: 2381530\n",
      "Percentage of missing values: 23.80%\n"
     ]
    }
   ],
   "source": [
    "total_cells=df.shape[0]*df.shape[1] # Total number of cells in the DataFrame rows * columns\n",
    "total_missing=missing_values.sum() # Total number of missing values in the DataFrame\n",
    "missing_percentage=(total_missing/total_cells)*100 # Percentage of missing values in the DataFrame\n",
    "print(f\"Total missing values: {total_missing}\")\n",
    "print(f\"Percentage of missing values: {missing_percentage:.2f}%\")"
   ]
  },
  {
   "cell_type": "code",
   "execution_count": 227,
   "id": "4913844e",
   "metadata": {},
   "outputs": [
    {
     "data": {
      "text/plain": [
       "np.int64(0)"
      ]
     },
     "execution_count": 227,
     "metadata": {},
     "output_type": "execute_result"
    }
   ],
   "source": [
    "#checking for duplicates\n",
    "df.duplicated().sum()\n"
   ]
  },
  {
   "cell_type": "markdown",
   "id": "1f7815e1",
   "metadata": {},
   "source": [
    "--------------------------------------------------------------------\n",
    "\n",
    "## General Overview\n",
    "\n",
    "• The dataset has 555957 rows and 18 columns(date_received,product,sub_product, issue, sub_issue,consumer_complaint_narrative, company_public_response,company,state, zipcode, tags, consumer_consent_provided,submitted_via, date_sent_to_company, company_response_to_consumer,timely_response, consumer_disputed, complaint_id)\n",
    "\n",
    "• 2381530 missing values were found in the datset\n",
    "\n",
    "\n",
    "\n"
   ]
  },
  {
   "cell_type": "markdown",
   "id": "641a653e",
   "metadata": {},
   "source": [
    "-----------------------------------------------------------------------\n",
    "### Exploratory Data Analysis\n",
    "\n",
    "Run statistical summary of the dataset\n",
    "\n",
    "•Complaints per year/month/day\n",
    "\n",
    "•Average time taken by company to respond\n",
    "\n",
    "•Most complained about products\n",
    "\n",
    "•Which sub-products are driving complaints within each product\n",
    "\n",
    "•What are the most common problems reported by consumers\n",
    "\n",
    "•For a given problem what issues dominate\n",
    "\n",
    "•Which companies get the most complaints\n",
    "\n",
    "•How do their responses types differ\n",
    "\n",
    "•Do they respond on time\n",
    "\n",
    "•Complaints by state\n",
    "\n",
    "•Regional patterns of financial complaints\n",
    "\n",
    "•Sentiment analysis\n",
    "\n",
    "•How many consumers allowed narrative sharing\n",
    "\n",
    "•how often do consumers dispute the company's response\n",
    "\n",
    "•is there a link between response type and disputes\n",
    "\n",
    "\n",
    "\n",
    "\n",
    "\n"
   ]
  },
  {
   "cell_type": "code",
   "execution_count": 228,
   "id": "8aa79a23",
   "metadata": {},
   "outputs": [
    {
     "data": {
      "text/html": [
       "<div>\n",
       "<style scoped>\n",
       "    .dataframe tbody tr th:only-of-type {\n",
       "        vertical-align: middle;\n",
       "    }\n",
       "\n",
       "    .dataframe tbody tr th {\n",
       "        vertical-align: top;\n",
       "    }\n",
       "\n",
       "    .dataframe thead th {\n",
       "        text-align: right;\n",
       "    }\n",
       "</style>\n",
       "<table border=\"1\" class=\"dataframe\">\n",
       "  <thead>\n",
       "    <tr style=\"text-align: right;\">\n",
       "      <th></th>\n",
       "      <th>complaint_id</th>\n",
       "    </tr>\n",
       "  </thead>\n",
       "  <tbody>\n",
       "    <tr>\n",
       "      <th>count</th>\n",
       "      <td>5.559570e+05</td>\n",
       "    </tr>\n",
       "    <tr>\n",
       "      <th>mean</th>\n",
       "      <td>9.600510e+05</td>\n",
       "    </tr>\n",
       "    <tr>\n",
       "      <th>std</th>\n",
       "      <td>5.504296e+05</td>\n",
       "    </tr>\n",
       "    <tr>\n",
       "      <th>min</th>\n",
       "      <td>1.000000e+00</td>\n",
       "    </tr>\n",
       "    <tr>\n",
       "      <th>25%</th>\n",
       "      <td>4.863230e+05</td>\n",
       "    </tr>\n",
       "    <tr>\n",
       "      <th>50%</th>\n",
       "      <td>9.737830e+05</td>\n",
       "    </tr>\n",
       "    <tr>\n",
       "      <th>75%</th>\n",
       "      <td>1.441702e+06</td>\n",
       "    </tr>\n",
       "    <tr>\n",
       "      <th>max</th>\n",
       "      <td>1.895894e+06</td>\n",
       "    </tr>\n",
       "  </tbody>\n",
       "</table>\n",
       "</div>"
      ],
      "text/plain": [
       "       complaint_id\n",
       "count  5.559570e+05\n",
       "mean   9.600510e+05\n",
       "std    5.504296e+05\n",
       "min    1.000000e+00\n",
       "25%    4.863230e+05\n",
       "50%    9.737830e+05\n",
       "75%    1.441702e+06\n",
       "max    1.895894e+06"
      ]
     },
     "execution_count": 228,
     "metadata": {},
     "output_type": "execute_result"
    }
   ],
   "source": [
    "#Statistical summary of numerical columns\n",
    "df.describe()"
   ]
  },
  {
   "cell_type": "markdown",
   "id": "97a0bc19",
   "metadata": {},
   "source": [
    "### Data Cleaning Pipeline\n",
    "\n",
    "To prepare the dataset for analysis. I created reusable cleaning functions and applied them using pipe()"
   ]
  },
  {
   "cell_type": "code",
   "execution_count": 229,
   "id": "26a35e1b",
   "metadata": {},
   "outputs": [
    {
     "name": "stdout",
     "output_type": "stream",
     "text": [
      "<class 'pandas.core.frame.DataFrame'>\n",
      "RangeIndex: 555957 entries, 0 to 555956\n",
      "Data columns (total 18 columns):\n",
      " #   Column                        Non-Null Count   Dtype \n",
      "---  ------                        --------------   ----- \n",
      " 0   date_received                 555957 non-null  object\n",
      " 1   product                       555957 non-null  object\n",
      " 2   sub_product                   397635 non-null  object\n",
      " 3   issue                         555957 non-null  object\n",
      " 4   sub_issue                     212622 non-null  object\n",
      " 5   consumer_complaint_narrative  66806 non-null   object\n",
      " 6   company_public_response       85124 non-null   object\n",
      " 7   company                       555957 non-null  object\n",
      " 8   state                         551070 non-null  object\n",
      " 9   zipcode                       551452 non-null  object\n",
      " 10  tags                          77959 non-null   object\n",
      " 11  consumer_consent_provided     123458 non-null  object\n",
      " 12  submitted_via                 555957 non-null  object\n",
      " 13  date_sent_to_company          555957 non-null  object\n",
      " 14  company_response_to_consumer  555957 non-null  object\n",
      " 15  timely_response               555957 non-null  object\n",
      " 16  consumer_disputed?            555957 non-null  object\n",
      " 17  complaint_id                  555957 non-null  int64 \n",
      "dtypes: int64(1), object(17)\n",
      "memory usage: 76.3+ MB\n"
     ]
    }
   ],
   "source": [
    "#information of the dataset before cleaning\n",
    "df.info()"
   ]
  },
  {
   "cell_type": "code",
   "execution_count": 230,
   "id": "16aff77c",
   "metadata": {},
   "outputs": [
    {
     "data": {
      "text/html": [
       "<div>\n",
       "<style scoped>\n",
       "    .dataframe tbody tr th:only-of-type {\n",
       "        vertical-align: middle;\n",
       "    }\n",
       "\n",
       "    .dataframe tbody tr th {\n",
       "        vertical-align: top;\n",
       "    }\n",
       "\n",
       "    .dataframe thead th {\n",
       "        text-align: right;\n",
       "    }\n",
       "</style>\n",
       "<table border=\"1\" class=\"dataframe\">\n",
       "  <thead>\n",
       "    <tr style=\"text-align: right;\">\n",
       "      <th></th>\n",
       "      <th>date_received</th>\n",
       "      <th>product</th>\n",
       "      <th>sub_product</th>\n",
       "      <th>issue</th>\n",
       "      <th>sub_issue</th>\n",
       "      <th>consumer_complaint_narrative</th>\n",
       "      <th>company_public_response</th>\n",
       "      <th>company</th>\n",
       "      <th>state</th>\n",
       "      <th>zipcode</th>\n",
       "      <th>tags</th>\n",
       "      <th>consumer_consent_provided</th>\n",
       "      <th>submitted_via</th>\n",
       "      <th>date_sent_to_company</th>\n",
       "      <th>company_response_to_consumer</th>\n",
       "      <th>timely_response</th>\n",
       "      <th>consumer_disputed?</th>\n",
       "      <th>complaint_id</th>\n",
       "    </tr>\n",
       "  </thead>\n",
       "  <tbody>\n",
       "    <tr>\n",
       "      <th>0</th>\n",
       "      <td>08/30/2013</td>\n",
       "      <td>Mortgage</td>\n",
       "      <td>Other mortgage</td>\n",
       "      <td>Loan modification,collection,foreclosure</td>\n",
       "      <td>NaN</td>\n",
       "      <td>NaN</td>\n",
       "      <td>NaN</td>\n",
       "      <td>U.S. Bancorp</td>\n",
       "      <td>CA</td>\n",
       "      <td>95993</td>\n",
       "      <td>NaN</td>\n",
       "      <td>NaN</td>\n",
       "      <td>Referral</td>\n",
       "      <td>09/03/2013</td>\n",
       "      <td>Closed with explanation</td>\n",
       "      <td>Yes</td>\n",
       "      <td>Yes</td>\n",
       "      <td>511074</td>\n",
       "    </tr>\n",
       "    <tr>\n",
       "      <th>1</th>\n",
       "      <td>08/30/2013</td>\n",
       "      <td>Mortgage</td>\n",
       "      <td>Other mortgage</td>\n",
       "      <td>Loan servicing, payments, escrow account</td>\n",
       "      <td>NaN</td>\n",
       "      <td>NaN</td>\n",
       "      <td>NaN</td>\n",
       "      <td>Wells Fargo &amp; Company</td>\n",
       "      <td>CA</td>\n",
       "      <td>91104</td>\n",
       "      <td>NaN</td>\n",
       "      <td>NaN</td>\n",
       "      <td>Referral</td>\n",
       "      <td>09/03/2013</td>\n",
       "      <td>Closed with explanation</td>\n",
       "      <td>Yes</td>\n",
       "      <td>Yes</td>\n",
       "      <td>511080</td>\n",
       "    </tr>\n",
       "    <tr>\n",
       "      <th>2</th>\n",
       "      <td>08/30/2013</td>\n",
       "      <td>Credit reporting</td>\n",
       "      <td>NaN</td>\n",
       "      <td>Incorrect information on credit report</td>\n",
       "      <td>Account status</td>\n",
       "      <td>NaN</td>\n",
       "      <td>NaN</td>\n",
       "      <td>Wells Fargo &amp; Company</td>\n",
       "      <td>NY</td>\n",
       "      <td>11764</td>\n",
       "      <td>NaN</td>\n",
       "      <td>NaN</td>\n",
       "      <td>Postal mail</td>\n",
       "      <td>09/18/2013</td>\n",
       "      <td>Closed with explanation</td>\n",
       "      <td>Yes</td>\n",
       "      <td>No</td>\n",
       "      <td>510473</td>\n",
       "    </tr>\n",
       "    <tr>\n",
       "      <th>3</th>\n",
       "      <td>08/30/2013</td>\n",
       "      <td>Student loan</td>\n",
       "      <td>Non-federal student loan</td>\n",
       "      <td>Repaying your loan</td>\n",
       "      <td>Repaying your loan</td>\n",
       "      <td>NaN</td>\n",
       "      <td>NaN</td>\n",
       "      <td>Navient Solutions, Inc.</td>\n",
       "      <td>MD</td>\n",
       "      <td>21402</td>\n",
       "      <td>NaN</td>\n",
       "      <td>NaN</td>\n",
       "      <td>Email</td>\n",
       "      <td>08/30/2013</td>\n",
       "      <td>Closed with explanation</td>\n",
       "      <td>Yes</td>\n",
       "      <td>Yes</td>\n",
       "      <td>510326</td>\n",
       "    </tr>\n",
       "    <tr>\n",
       "      <th>4</th>\n",
       "      <td>08/30/2013</td>\n",
       "      <td>Debt collection</td>\n",
       "      <td>Credit card</td>\n",
       "      <td>False statements or representation</td>\n",
       "      <td>Attempted to collect wrong amount</td>\n",
       "      <td>NaN</td>\n",
       "      <td>NaN</td>\n",
       "      <td>Resurgent Capital Services L.P.</td>\n",
       "      <td>GA</td>\n",
       "      <td>30106</td>\n",
       "      <td>NaN</td>\n",
       "      <td>NaN</td>\n",
       "      <td>Web</td>\n",
       "      <td>08/30/2013</td>\n",
       "      <td>Closed with explanation</td>\n",
       "      <td>Yes</td>\n",
       "      <td>Yes</td>\n",
       "      <td>511067</td>\n",
       "    </tr>\n",
       "  </tbody>\n",
       "</table>\n",
       "</div>"
      ],
      "text/plain": [
       "  date_received           product               sub_product  \\\n",
       "0    08/30/2013          Mortgage            Other mortgage   \n",
       "1    08/30/2013          Mortgage            Other mortgage   \n",
       "2    08/30/2013  Credit reporting                       NaN   \n",
       "3    08/30/2013      Student loan  Non-federal student loan   \n",
       "4    08/30/2013   Debt collection               Credit card   \n",
       "\n",
       "                                      issue  \\\n",
       "0  Loan modification,collection,foreclosure   \n",
       "1  Loan servicing, payments, escrow account   \n",
       "2    Incorrect information on credit report   \n",
       "3                        Repaying your loan   \n",
       "4        False statements or representation   \n",
       "\n",
       "                           sub_issue consumer_complaint_narrative  \\\n",
       "0                                NaN                          NaN   \n",
       "1                                NaN                          NaN   \n",
       "2                     Account status                          NaN   \n",
       "3                 Repaying your loan                          NaN   \n",
       "4  Attempted to collect wrong amount                          NaN   \n",
       "\n",
       "  company_public_response                          company state zipcode tags  \\\n",
       "0                     NaN                     U.S. Bancorp    CA   95993  NaN   \n",
       "1                     NaN            Wells Fargo & Company    CA   91104  NaN   \n",
       "2                     NaN            Wells Fargo & Company    NY   11764  NaN   \n",
       "3                     NaN          Navient Solutions, Inc.    MD   21402  NaN   \n",
       "4                     NaN  Resurgent Capital Services L.P.    GA   30106  NaN   \n",
       "\n",
       "  consumer_consent_provided submitted_via date_sent_to_company  \\\n",
       "0                       NaN      Referral           09/03/2013   \n",
       "1                       NaN      Referral           09/03/2013   \n",
       "2                       NaN   Postal mail           09/18/2013   \n",
       "3                       NaN         Email           08/30/2013   \n",
       "4                       NaN           Web           08/30/2013   \n",
       "\n",
       "  company_response_to_consumer timely_response consumer_disputed?  \\\n",
       "0      Closed with explanation             Yes                Yes   \n",
       "1      Closed with explanation             Yes                Yes   \n",
       "2      Closed with explanation             Yes                 No   \n",
       "3      Closed with explanation             Yes                Yes   \n",
       "4      Closed with explanation             Yes                Yes   \n",
       "\n",
       "   complaint_id  \n",
       "0        511074  \n",
       "1        511080  \n",
       "2        510473  \n",
       "3        510326  \n",
       "4        511067  "
      ]
     },
     "execution_count": 230,
     "metadata": {},
     "output_type": "execute_result"
    }
   ],
   "source": [
    "#first 5 rows of the datset before cleaning\n",
    "df.head()"
   ]
  },
  {
   "cell_type": "code",
   "execution_count": 231,
   "id": "8398d95c",
   "metadata": {},
   "outputs": [
    {
     "name": "stdout",
     "output_type": "stream",
     "text": [
      "<class 'pandas.core.frame.DataFrame'>\n",
      "RangeIndex: 555957 entries, 0 to 555956\n",
      "Data columns (total 18 columns):\n",
      " #   Column                        Non-Null Count   Dtype         \n",
      "---  ------                        --------------   -----         \n",
      " 0   date_received                 555957 non-null  datetime64[ns]\n",
      " 1   product                       555957 non-null  object        \n",
      " 2   sub_product                   555957 non-null  object        \n",
      " 3   issue                         555957 non-null  object        \n",
      " 4   sub_issue                     555957 non-null  object        \n",
      " 5   consumer_complaint_narrative  555957 non-null  object        \n",
      " 6   company_public_response       555957 non-null  object        \n",
      " 7   company                       555957 non-null  object        \n",
      " 8   state                         555957 non-null  category      \n",
      " 9   zipcode                       555957 non-null  object        \n",
      " 10  tags                          555957 non-null  object        \n",
      " 11  consumer_consent_provided     555957 non-null  object        \n",
      " 12  submitted_via                 555957 non-null  category      \n",
      " 13  date_sent_to_company          555957 non-null  datetime64[ns]\n",
      " 14  company_response_to_consumer  555957 non-null  category      \n",
      " 15  timely_response               555957 non-null  category      \n",
      " 16  consumer_disputed?            555957 non-null  category      \n",
      " 17  complaint_id                  555957 non-null  int64         \n",
      "dtypes: category(5), datetime64[ns](2), int64(1), object(10)\n",
      "memory usage: 57.8+ MB\n"
     ]
    }
   ],
   "source": [
    "#Data Cleaning\n",
    "\n",
    "def clean_data(df):\n",
    "    df=df.copy()\n",
    "    col_fill = ['sub_product', 'sub_issue','consumer_complaint_narrative','state', 'consumer_consent_provided','tags']\n",
    "    dat_cols = ['date_sent_to_company', 'date_received']    \n",
    "    # Fill missing values\n",
    "    for col in col_fill:\n",
    "        if col in df.columns:\n",
    "            df[col] = df[col].fillna('Unknown')\n",
    "    df['company_public_response']=df['company_public_response'].replace(['nan','NaN','NA','', 'None'],'No Response').fillna('No Response')\n",
    "\n",
    "    if 'zipcode' in df.columns:\n",
    "        df['zipcode'] = df['zipcode'].fillna('00000').astype(str).str.zfill(5)\n",
    "    \n",
    "    for col in dat_cols:\n",
    "        if col in df.columns:\n",
    "            df[col] = pd.to_datetime(df[col], errors='coerce')\n",
    "    if 'state' in df.columns:\n",
    "        df['state'] = df['state'].replace(['XX','NA','Xx'], 'Unknown').astype('category')\n",
    "    \n",
    "    return df\n",
    "\n",
    "\n",
    "def clean_columns(df):\n",
    "    df=df.copy()\n",
    "    \n",
    "    str_cols=df.select_dtypes(include='object').columns\n",
    "    df[str_cols]=df[str_cols].apply(lambda x: x.str.strip().str.title())\n",
    "    \n",
    "    # Convert categorical columns to 'category' dtype\n",
    "    cat_cols = ['timely_response', 'consumer_disputed?', 'submitted_via', 'company_response_to_consumer']\n",
    "    for col in cat_cols:\n",
    "         if col in df.columns:\n",
    "            df[col] = df[col].astype('category')\n",
    "\n",
    "    \n",
    "    return df\n",
    "\n",
    "# Applying the cleaning functions using pipe\n",
    "df = (df\n",
    "              .pipe(clean_data)\n",
    "              .pipe(clean_columns)\n",
    ")\n",
    "\n",
    "\n",
    "\n",
    "df.info()\n",
    "\n",
    "    "
   ]
  },
  {
   "cell_type": "code",
   "execution_count": 232,
   "id": "ad794e5e",
   "metadata": {},
   "outputs": [
    {
     "data": {
      "text/html": [
       "<div>\n",
       "<style scoped>\n",
       "    .dataframe tbody tr th:only-of-type {\n",
       "        vertical-align: middle;\n",
       "    }\n",
       "\n",
       "    .dataframe tbody tr th {\n",
       "        vertical-align: top;\n",
       "    }\n",
       "\n",
       "    .dataframe thead th {\n",
       "        text-align: right;\n",
       "    }\n",
       "</style>\n",
       "<table border=\"1\" class=\"dataframe\">\n",
       "  <thead>\n",
       "    <tr style=\"text-align: right;\">\n",
       "      <th></th>\n",
       "      <th>date_received</th>\n",
       "      <th>product</th>\n",
       "      <th>sub_product</th>\n",
       "      <th>issue</th>\n",
       "      <th>sub_issue</th>\n",
       "      <th>consumer_complaint_narrative</th>\n",
       "      <th>company_public_response</th>\n",
       "      <th>company</th>\n",
       "      <th>state</th>\n",
       "      <th>zipcode</th>\n",
       "      <th>tags</th>\n",
       "      <th>consumer_consent_provided</th>\n",
       "      <th>submitted_via</th>\n",
       "      <th>date_sent_to_company</th>\n",
       "      <th>company_response_to_consumer</th>\n",
       "      <th>timely_response</th>\n",
       "      <th>consumer_disputed?</th>\n",
       "      <th>complaint_id</th>\n",
       "    </tr>\n",
       "  </thead>\n",
       "  <tbody>\n",
       "    <tr>\n",
       "      <th>0</th>\n",
       "      <td>2013-08-30</td>\n",
       "      <td>Mortgage</td>\n",
       "      <td>Other Mortgage</td>\n",
       "      <td>Loan Modification,Collection,Foreclosure</td>\n",
       "      <td>Unknown</td>\n",
       "      <td>Unknown</td>\n",
       "      <td>No Response</td>\n",
       "      <td>U.S. Bancorp</td>\n",
       "      <td>CA</td>\n",
       "      <td>95993</td>\n",
       "      <td>Unknown</td>\n",
       "      <td>Unknown</td>\n",
       "      <td>Referral</td>\n",
       "      <td>2013-09-03</td>\n",
       "      <td>Closed With Explanation</td>\n",
       "      <td>Yes</td>\n",
       "      <td>Yes</td>\n",
       "      <td>511074</td>\n",
       "    </tr>\n",
       "    <tr>\n",
       "      <th>1</th>\n",
       "      <td>2013-08-30</td>\n",
       "      <td>Mortgage</td>\n",
       "      <td>Other Mortgage</td>\n",
       "      <td>Loan Servicing, Payments, Escrow Account</td>\n",
       "      <td>Unknown</td>\n",
       "      <td>Unknown</td>\n",
       "      <td>No Response</td>\n",
       "      <td>Wells Fargo &amp; Company</td>\n",
       "      <td>CA</td>\n",
       "      <td>91104</td>\n",
       "      <td>Unknown</td>\n",
       "      <td>Unknown</td>\n",
       "      <td>Referral</td>\n",
       "      <td>2013-09-03</td>\n",
       "      <td>Closed With Explanation</td>\n",
       "      <td>Yes</td>\n",
       "      <td>Yes</td>\n",
       "      <td>511080</td>\n",
       "    </tr>\n",
       "    <tr>\n",
       "      <th>2</th>\n",
       "      <td>2013-08-30</td>\n",
       "      <td>Credit Reporting</td>\n",
       "      <td>Unknown</td>\n",
       "      <td>Incorrect Information On Credit Report</td>\n",
       "      <td>Account Status</td>\n",
       "      <td>Unknown</td>\n",
       "      <td>No Response</td>\n",
       "      <td>Wells Fargo &amp; Company</td>\n",
       "      <td>NY</td>\n",
       "      <td>11764</td>\n",
       "      <td>Unknown</td>\n",
       "      <td>Unknown</td>\n",
       "      <td>Postal Mail</td>\n",
       "      <td>2013-09-18</td>\n",
       "      <td>Closed With Explanation</td>\n",
       "      <td>Yes</td>\n",
       "      <td>No</td>\n",
       "      <td>510473</td>\n",
       "    </tr>\n",
       "    <tr>\n",
       "      <th>3</th>\n",
       "      <td>2013-08-30</td>\n",
       "      <td>Student Loan</td>\n",
       "      <td>Non-Federal Student Loan</td>\n",
       "      <td>Repaying Your Loan</td>\n",
       "      <td>Repaying Your Loan</td>\n",
       "      <td>Unknown</td>\n",
       "      <td>No Response</td>\n",
       "      <td>Navient Solutions, Inc.</td>\n",
       "      <td>MD</td>\n",
       "      <td>21402</td>\n",
       "      <td>Unknown</td>\n",
       "      <td>Unknown</td>\n",
       "      <td>Email</td>\n",
       "      <td>2013-08-30</td>\n",
       "      <td>Closed With Explanation</td>\n",
       "      <td>Yes</td>\n",
       "      <td>Yes</td>\n",
       "      <td>510326</td>\n",
       "    </tr>\n",
       "    <tr>\n",
       "      <th>4</th>\n",
       "      <td>2013-08-30</td>\n",
       "      <td>Debt Collection</td>\n",
       "      <td>Credit Card</td>\n",
       "      <td>False Statements Or Representation</td>\n",
       "      <td>Attempted To Collect Wrong Amount</td>\n",
       "      <td>Unknown</td>\n",
       "      <td>No Response</td>\n",
       "      <td>Resurgent Capital Services L.P.</td>\n",
       "      <td>GA</td>\n",
       "      <td>30106</td>\n",
       "      <td>Unknown</td>\n",
       "      <td>Unknown</td>\n",
       "      <td>Web</td>\n",
       "      <td>2013-08-30</td>\n",
       "      <td>Closed With Explanation</td>\n",
       "      <td>Yes</td>\n",
       "      <td>Yes</td>\n",
       "      <td>511067</td>\n",
       "    </tr>\n",
       "  </tbody>\n",
       "</table>\n",
       "</div>"
      ],
      "text/plain": [
       "  date_received           product               sub_product  \\\n",
       "0    2013-08-30          Mortgage            Other Mortgage   \n",
       "1    2013-08-30          Mortgage            Other Mortgage   \n",
       "2    2013-08-30  Credit Reporting                   Unknown   \n",
       "3    2013-08-30      Student Loan  Non-Federal Student Loan   \n",
       "4    2013-08-30   Debt Collection               Credit Card   \n",
       "\n",
       "                                      issue  \\\n",
       "0  Loan Modification,Collection,Foreclosure   \n",
       "1  Loan Servicing, Payments, Escrow Account   \n",
       "2    Incorrect Information On Credit Report   \n",
       "3                        Repaying Your Loan   \n",
       "4        False Statements Or Representation   \n",
       "\n",
       "                           sub_issue consumer_complaint_narrative  \\\n",
       "0                            Unknown                      Unknown   \n",
       "1                            Unknown                      Unknown   \n",
       "2                     Account Status                      Unknown   \n",
       "3                 Repaying Your Loan                      Unknown   \n",
       "4  Attempted To Collect Wrong Amount                      Unknown   \n",
       "\n",
       "  company_public_response                          company state zipcode  \\\n",
       "0             No Response                     U.S. Bancorp    CA   95993   \n",
       "1             No Response            Wells Fargo & Company    CA   91104   \n",
       "2             No Response            Wells Fargo & Company    NY   11764   \n",
       "3             No Response          Navient Solutions, Inc.    MD   21402   \n",
       "4             No Response  Resurgent Capital Services L.P.    GA   30106   \n",
       "\n",
       "      tags consumer_consent_provided submitted_via date_sent_to_company  \\\n",
       "0  Unknown                   Unknown      Referral           2013-09-03   \n",
       "1  Unknown                   Unknown      Referral           2013-09-03   \n",
       "2  Unknown                   Unknown   Postal Mail           2013-09-18   \n",
       "3  Unknown                   Unknown         Email           2013-08-30   \n",
       "4  Unknown                   Unknown           Web           2013-08-30   \n",
       "\n",
       "  company_response_to_consumer timely_response consumer_disputed?  \\\n",
       "0      Closed With Explanation             Yes                Yes   \n",
       "1      Closed With Explanation             Yes                Yes   \n",
       "2      Closed With Explanation             Yes                 No   \n",
       "3      Closed With Explanation             Yes                Yes   \n",
       "4      Closed With Explanation             Yes                Yes   \n",
       "\n",
       "   complaint_id  \n",
       "0        511074  \n",
       "1        511080  \n",
       "2        510473  \n",
       "3        510326  \n",
       "4        511067  "
      ]
     },
     "execution_count": 232,
     "metadata": {},
     "output_type": "execute_result"
    }
   ],
   "source": [
    "#previewing cleaned data\n",
    "df.head()"
   ]
  },
  {
   "cell_type": "code",
   "execution_count": 233,
   "id": "d8cf6a01",
   "metadata": {},
   "outputs": [
    {
     "data": {
      "text/plain": [
       "date_received                   0\n",
       "product                         0\n",
       "sub_product                     0\n",
       "issue                           0\n",
       "sub_issue                       0\n",
       "consumer_complaint_narrative    0\n",
       "company_public_response         0\n",
       "company                         0\n",
       "state                           0\n",
       "zipcode                         0\n",
       "tags                            0\n",
       "consumer_consent_provided       0\n",
       "submitted_via                   0\n",
       "date_sent_to_company            0\n",
       "company_response_to_consumer    0\n",
       "timely_response                 0\n",
       "consumer_disputed?              0\n",
       "complaint_id                    0\n",
       "dtype: int64"
      ]
     },
     "execution_count": 233,
     "metadata": {},
     "output_type": "execute_result"
    }
   ],
   "source": [
    "#checking for missing values\n",
    "df.isnull().sum()"
   ]
  },
  {
   "cell_type": "markdown",
   "id": "aedf618d",
   "metadata": {},
   "source": [
    "## EDA ANSWERS\n",
    "------------------------------------------------------------------------------------------\n",
    "\n",
    "### TIME BASED ANALYSIS\n"
   ]
  },
  {
   "cell_type": "markdown",
   "id": "2d517f7f",
   "metadata": {},
   "source": [
    "1) Complaints per year/month/day\n"
   ]
  },
  {
   "cell_type": "code",
   "execution_count": 234,
   "id": "a9f5a069",
   "metadata": {},
   "outputs": [
    {
     "name": "stdout",
     "output_type": "stream",
     "text": [
      "These are the complaints per year \n",
      "2011      2549\n",
      "2012     72523\n",
      "2013    108273\n",
      "2014    153138\n",
      "2015    168621\n",
      "2016     50853\n",
      "Name: consumer_complaint_narrative, dtype: int64\n",
      "\n",
      "These are the complaints per month \n",
      "month_name\n",
      "Jan    52113\n",
      "Feb    51719\n",
      "Mar    59409\n",
      "Apr    48986\n",
      "May    41680\n",
      "Jun    42967\n",
      "Jul    45403\n",
      "Aug    45439\n",
      "Sep    41948\n",
      "Oct    43804\n",
      "Nov    39626\n",
      "Dec    42863\n",
      "Name: consumer_complaint_narrative, dtype: int64\n",
      "\n",
      "These are the complaints per month \n",
      "1     16730\n",
      "2     17344\n",
      "3     17333\n",
      "4     17979\n",
      "5     18999\n",
      "6     18715\n",
      "7     18515\n",
      "8     18596\n",
      "9     18725\n",
      "10    19119\n",
      "11    19358\n",
      "12    18759\n",
      "13    17732\n",
      "14    18465\n",
      "15    18962\n",
      "16    18337\n",
      "17    18801\n",
      "18    18834\n",
      "19    18831\n",
      "20    18307\n",
      "21    18355\n",
      "22    18218\n",
      "23    18736\n",
      "24    18508\n",
      "25    16965\n",
      "26    17751\n",
      "27    17128\n",
      "28    17119\n",
      "29    17769\n",
      "30    16771\n",
      "31    10196\n",
      "Name: consumer_complaint_narrative, dtype: int64\n",
      "\n"
     ]
    },
    {
     "name": "stderr",
     "output_type": "stream",
     "text": [
      "C:\\Users\\lizzy\\AppData\\Local\\Temp\\ipykernel_15636\\1063688970.py:15: FutureWarning:\n",
      "\n",
      "The default of observed=False is deprecated and will be changed to True in a future version of pandas. Pass observed=False to retain current behavior or observed=True to adopt the future default and silence this warning.\n",
      "\n"
     ]
    },
    {
     "data": {
      "image/png": "[encoded data removed]",
      "text/plain": [
       "<Figure size 1800x500 with 3 Axes>"
      ]
     },
     "metadata": {},
     "output_type": "display_data"
    }
   ],
   "source": [
    "cols_to_use=['date_received','date_sent_to_company','consumer_complaint_narrative']\n",
    "complaints_analysis=df[cols_to_use]\n",
    "complaints_analysis['date_received_year']=complaints_analysis['date_received'].dt.year\n",
    "complaints_analysis['month_num'] = complaints_analysis['date_received'].dt.month\n",
    "complaints_analysis['month_name'] = complaints_analysis['date_received'].dt.strftime('%b') \n",
    "month_order = ['Jan','Feb','Mar','Apr','May','Jun','Jul','Aug','Sep','Oct','Nov','Dec']\n",
    "complaints_analysis['month_name'] = pd.Categorical(complaints_analysis['month_name'], categories=month_order, ordered=True)\n",
    "complaints_analysis['date_received_day']=complaints_analysis['date_received'].dt.day\n",
    "#------------------------------------------------------------------------------------------------#\n",
    "complaints_per_year=complaints_analysis.groupby('date_received_year',)['consumer_complaint_narrative'].count()\n",
    "complaints_per_year.index.name = None\n",
    "print(f'These are the complaints per year \\n{complaints_per_year}')\n",
    "print()\n",
    "#------------------------------------------------------------------------------------------------#\n",
    "complaints_per_month = complaints_analysis.groupby('month_name')['consumer_complaint_narrative'].count()\n",
    "print(f'These are the complaints per month \\n{complaints_per_month}')\n",
    "print()\n",
    "#------------------------------------------------------------------------------------------------#\n",
    "complaints_per_day=complaints_analysis.groupby('date_received_day')['consumer_complaint_narrative'].count()\n",
    "complaints_per_day.index.name = None\n",
    "print(f'These are the complaints per month \\n{complaints_per_day}')\n",
    "print()\n",
    "#------------------------------------------------------------------------------------------------#\n",
    "fig, axes = plt.subplots(1, 3, figsize=(18, 5))\n",
    "\n",
    "# Yearly complaints\n",
    "axes[0].plot(complaints_per_year.index, complaints_per_year.values, marker='o')\n",
    "axes[0].set_title('Complaints per Year')\n",
    "axes[0].set_xlabel('Year')\n",
    "axes[0].set_ylabel('Count')\n",
    "\n",
    "\n",
    "# Monthly complaints\n",
    "axes[1].plot(complaints_per_month.index, complaints_per_month.values, marker='o', color='green')\n",
    "axes[1].set_title('Complaints per Month')\n",
    "axes[1].set_xlabel('Month')\n",
    "axes[1].set_ylabel('Count')\n",
    "\n",
    "\n",
    "# Daily complaints\n",
    "axes[2].plot(complaints_per_day.index, complaints_per_day.values, marker='o', color='purple')\n",
    "axes[2].set_title('Complaints per Day')\n",
    "axes[2].set_xlabel('Day')\n",
    "axes[2].set_ylabel('Count')\n",
    "\n",
    "for ax in axes:\n",
    "    ax.grid(True, linestyle=\"--\", alpha=0.7)\n",
    "\n",
    "\n",
    "\n",
    "plt.tight_layout()  # Prevent overlap\n",
    "plt.show()\n",
    "\n"
   ]
  },
  {
   "cell_type": "markdown",
   "id": "798f11a2",
   "metadata": {},
   "source": [
    "2) Average time taken by company to respond\n"
   ]
  },
  {
   "cell_type": "code",
   "execution_count": 235,
   "id": "0bdea4eb",
   "metadata": {},
   "outputs": [
    {
     "name": "stdout",
     "output_type": "stream",
     "text": [
      "Average response time= 0.03 days\n"
     ]
    },
    {
     "data": {
      "image/png": "[encoded data removed]",
      "text/plain": [
       "<Figure size 1000x500 with 1 Axes>"
      ]
     },
     "metadata": {},
     "output_type": "display_data"
    }
   ],
   "source": [
    "#column selection for time analysis\n",
    "cols_to_use=['date_received','date_sent_to_company']\n",
    "time_analysis=df[cols_to_use]\n",
    " \n",
    " #CFPB only allows 0–15 days\n",
    "time_analysis['days_to_respond']=(time_analysis['date_received'] - time_analysis['date_sent_to_company']).dt.days\n",
    "time_analysis=time_analysis.query(\"0 <= days_to_respond <= 15\")\n",
    "avg_response=time_analysis['days_to_respond'].mean()\n",
    "print(f\"Average response time= {avg_response:.2f} days\")\n",
    "\n",
    "#plotting the distribution of response times\n",
    "plt.figure(figsize=(10,5))\n",
    "sns.histplot(x=time_analysis['days_to_respond'])\n",
    "plt.title('Distribution of Response Times (0-15 days)')\n",
    "plt.xlabel('Days to Respond')\n",
    "plt.grid(True, linestyle='--', alpha=1)\n",
    "plt.show()"
   ]
  },
  {
   "cell_type": "markdown",
   "id": "abc058e1",
   "metadata": {},
   "source": [
    "### Product/Sub-Product Focus\n"
   ]
  },
  {
   "cell_type": "markdown",
   "id": "e0bc9119",
   "metadata": {},
   "source": [
    "3) Most complained about Products\n"
   ]
  },
  {
   "cell_type": "code",
   "execution_count": 236,
   "id": "23f6672a",
   "metadata": {},
   "outputs": [
    {
     "name": "stdout",
     "output_type": "stream",
     "text": [
      "These are the top 10 complained about products \n",
      "1. Mortgage\n",
      "2. Debt Collection\n",
      "3. Credit Reporting\n",
      "4. Credit Card\n",
      "5. Bank Account Or Service\n",
      "6. Consumer Loan\n",
      "7. Student Loan\n",
      "8. Payday Loan\n",
      "9. Money Transfers\n",
      "10. Prepaid Card\n"
     ]
    },
    {
     "data": {
      "image/png": "[encoded data removed]",
      "text/plain": [
       "<Figure size 1200x600 with 1 Axes>"
      ]
     },
     "metadata": {},
     "output_type": "display_data"
    }
   ],
   "source": [
    "#complaint focus on products\n",
    "most_complained_product=df['product'].value_counts()\n",
    "top10_complained_product_list=df['product'].value_counts().head(10).index.tolist()\n",
    "most_complained_product.index.name=None\n",
    "print(f'These are the top 10 complained about products ')\n",
    "for i, x in enumerate(top10_complained_product_list, start=1):\n",
    "    print(f\"{i}. {x}\")\n",
    "\n",
    "#plotting most complained products\n",
    "fig,axes=plt.subplots(figsize=(12,6))\n",
    "index=most_complained_product.index\n",
    "values=most_complained_product.values\n",
    "axes.bar(index,values,color='red')\n",
    "axes.set_ylabel(\"Count of Complaints\")\n",
    "axes.set_title(\"Most Complained about Products\")\n",
    "plt.xticks(rotation=45, ha='right')\n",
    "plt.tight_layout()\n",
    "plt.show()"
   ]
  },
  {
   "cell_type": "markdown",
   "id": "113e319c",
   "metadata": {},
   "source": [
    "4) Which sub-products are driving complaints within each product"
   ]
  },
  {
   "cell_type": "code",
   "execution_count": 237,
   "id": "23712455",
   "metadata": {},
   "outputs": [
    {
     "data": {
      "image/png": "[encoded data removed]",
      "text/plain": [
       "<Figure size 1400x800 with 1 Axes>"
      ]
     },
     "metadata": {},
     "output_type": "display_data"
    }
   ],
   "source": [
    "#treemap of sub-products with most complaints\n",
    "\n",
    "counts=df.groupby(['product','sub_product'])['complaint_id'].count().reset_index()\n",
    "counts = counts.sort_values('complaint_id', ascending=False).head(10)\n",
    "\n",
    "\n",
    "labels = [f\"{sp}\\n{val:,}\" for sp, val in zip(counts['sub_product'], counts['complaint_id'])]\n",
    "\n",
    "plt.figure(figsize=(14,8))\n",
    "squarify.plot(\n",
    "    sizes=counts['complaint_id'],\n",
    "    label=labels,\n",
    "    alpha=0.9,\n",
    "    color=plt.cm.Set3.colors,        # softer, readable palette\n",
    "    text_kwargs={'fontsize':5, 'weight':'bold', 'color':'black'},\n",
    "    pad=True,                        # spacing around rectangles\n",
    ")\n",
    "plt.axis('off')\n",
    "plt.title(\"Top 10 Sub-Products by Complaint Count\", fontsize=16, weight='bold')\n",
    "plt.show()\n",
    "\n",
    "\n",
    "\n",
    "\n",
    "\n",
    "\n",
    "\n"
   ]
  },
  {
   "cell_type": "markdown",
   "id": "0d1fec70",
   "metadata": {},
   "source": [
    "### Issues/Sub-Issues"
   ]
  },
  {
   "cell_type": "markdown",
   "id": "d5230167",
   "metadata": {},
   "source": [
    "5) Most common problems reported by consumers\n"
   ]
  },
  {
   "cell_type": "code",
   "execution_count": 238,
   "id": "a4feb359",
   "metadata": {},
   "outputs": [
    {
     "name": "stdout",
     "output_type": "stream",
     "text": [
      "These are top 10 common issues reported by consumers\n",
      "1. Loan Modification,Collection,Foreclosure\n",
      "2. Incorrect Information On Credit Report\n",
      "3. Loan Servicing, Payments, Escrow Account\n",
      "4. Cont'D Attempts Collect Debt Not Owed\n",
      "5. Account Opening, Closing, Or Management\n",
      "6. Communication Tactics\n",
      "7. Disclosure Verification Of Debt\n",
      "8. Deposits And Withdrawals\n",
      "9. Application, Originator, Mortgage Broker\n",
      "10. Billing Disputes\n"
     ]
    },
    {
     "data": {
      "image/png": "[encoded data removed]",
      "text/plain": [
       "<Figure size 1400x800 with 1 Axes>"
      ]
     },
     "metadata": {},
     "output_type": "display_data"
    }
   ],
   "source": [
    "### Issues/Sub-Issues\n",
    "common_issues=df['issue'].value_counts()\n",
    "top10_issues_list=df['issue'].value_counts().head(10).index.tolist()\n",
    "\n",
    "print('These are top 10 common issues reported by consumers')\n",
    "for i, x in enumerate(top10_issues_list, start=1):\n",
    "    print(f\"{i}. {x}\")\n",
    "\n",
    "#Stacked bar chart for top 10 common issues\n",
    "fig,ax=plt.subplots(figsize=(14,8))\n",
    "ax.barh(common_issues.head(10).index, common_issues.head(10).values, color='pink')\n",
    "axes.set_xlabel(\"Count of Complaints\")\n",
    "ax.set_title(\"Top 10 Common Issues Reported by Consumers\")\n",
    "plt.gca().invert_yaxis()  # Highest values on top\n",
    "plt.tight_layout()\n",
    "plt.show()\n"
   ]
  },
  {
   "cell_type": "markdown",
   "id": "80e893a3",
   "metadata": {},
   "source": [
    "6) For a given product what issues dominate"
   ]
  },
  {
   "cell_type": "code",
   "execution_count": 239,
   "id": "6d94e683",
   "metadata": {},
   "outputs": [
    {
     "data": {
      "image/png": "[encoded data removed]",
      "text/plain": [
       "<Figure size 1500x600 with 2 Axes>"
      ]
     },
     "metadata": {},
     "output_type": "display_data"
    }
   ],
   "source": [
    "#top 10 issues for each product\n",
    "top_issues=df['issue'].value_counts().head(15).index\n",
    "prod_issues=df[df['issue'].isin(top_issues)].pivot_table(values='complaint_id',index='product',columns='issue',aggfunc='count',fill_value=0)\n",
    "prod_issues.head()\n",
    "\n",
    "#heatmap for top 10 issues for each product\n",
    "fig,ax=plt.subplots(figsize=(15,6))\n",
    "sns.heatmap(prod_issues,cmap=\"YlOrRd\", cbar_kws={'label': 'Number of Complaints'})\n",
    "plt.title('Heatmap of Issues by Product')\n",
    "plt.xticks(rotation=45, ha='right')\n",
    "plt.xlabel('Issue')\n",
    "plt.ylabel('Product')\n",
    "plt.show()\n"
   ]
  },
  {
   "cell_type": "markdown",
   "id": "86953744",
   "metadata": {},
   "source": [
    "### Company Analysis"
   ]
  },
  {
   "cell_type": "markdown",
   "id": "f3f51540",
   "metadata": {},
   "source": [
    "7) Which companies get the most complaints"
   ]
  },
  {
   "cell_type": "code",
   "execution_count": 240,
   "id": "e2512825",
   "metadata": {},
   "outputs": [
    {
     "data": {
      "text/plain": [
       "company\n",
       "Bank Of America                55998\n",
       "Wells Fargo & Company          42024\n",
       "Jpmorgan Chase & Co.           33881\n",
       "Equifax                        31828\n",
       "Experian                       30905\n",
       "                               ...  \n",
       "Nations Trust Mortgage Corp        1\n",
       "Alliance Capital Corp.             1\n",
       "Tsarouhis Law Group, Llc           1\n",
       "Aaa Collectors, Inc.               1\n",
       "Turbo Cash, Llc                    1\n",
       "Name: count, Length: 3605, dtype: int64"
      ]
     },
     "execution_count": 240,
     "metadata": {},
     "output_type": "execute_result"
    }
   ],
   "source": [
    "df['company'].value_counts()"
   ]
  },
  {
   "cell_type": "code",
   "execution_count": 241,
   "id": "4b8e60ff",
   "metadata": {},
   "outputs": [
    {
     "data": {
      "image/png": "[encoded data removed]",
      "text/plain": [
       "<Figure size 1500x800 with 1 Axes>"
      ]
     },
     "metadata": {},
     "output_type": "display_data"
    }
   ],
   "source": [
    "#top 15 companies gotten through groupby\n",
    "top15_compamies_complaints=df.groupby('company')['complaint_id'].size().sort_values(ascending=False).head(15)\n",
    "top15_compamies_complaints\n",
    "\n",
    "#Bar for the companies with most complaints\n",
    "fig,axes=plt.subplots(figsize=(15,8))\n",
    "axes.bar(top15_compamies_complaints.index,top15_compamies_complaints.values,color='red')\n",
    "plt.title('Top 15 Companies with most complaints')\n",
    "plt.xlabel('Company')\n",
    "plt.ylabel('Count of Complaints')\n",
    "plt.xticks(rotation=45, ha='right')\n",
    "plt.tight_layout()\n",
    "plt.show()"
   ]
  },
  {
   "cell_type": "markdown",
   "id": "96b12b11",
   "metadata": {},
   "source": [
    "8) How do their response type differ"
   ]
  },
  {
   "cell_type": "code",
   "execution_count": 242,
   "id": "f3c316c6",
   "metadata": {},
   "outputs": [
    {
     "name": "stderr",
     "output_type": "stream",
     "text": [
      "C:\\Users\\lizzy\\AppData\\Local\\Temp\\ipykernel_15636\\3137551428.py:2: FutureWarning:\n",
      "\n",
      "The default value of observed=False is deprecated and will change to observed=True in a future version of pandas. Specify observed=False to silence this warning and retain the current behavior\n",
      "\n"
     ]
    },
    {
     "data": {
      "image/png": "[encoded data removed]",
      "text/plain": [
       "<Figure size 1200x600 with 1 Axes>"
      ]
     },
     "metadata": {},
     "output_type": "display_data"
    },
    {
     "data": {
      "text/html": [
       "<div>\n",
       "<style scoped>\n",
       "    .dataframe tbody tr th:only-of-type {\n",
       "        vertical-align: middle;\n",
       "    }\n",
       "\n",
       "    .dataframe tbody tr th {\n",
       "        vertical-align: top;\n",
       "    }\n",
       "\n",
       "    .dataframe thead th {\n",
       "        text-align: right;\n",
       "    }\n",
       "</style>\n",
       "<table border=\"1\" class=\"dataframe\">\n",
       "  <thead>\n",
       "    <tr style=\"text-align: right;\">\n",
       "      <th>company_response_to_consumer</th>\n",
       "      <th>Closed</th>\n",
       "      <th>Closed With Explanation</th>\n",
       "      <th>Closed With Monetary Relief</th>\n",
       "      <th>Closed With Non-Monetary Relief</th>\n",
       "      <th>Closed With Relief</th>\n",
       "      <th>Closed Without Relief</th>\n",
       "      <th>In Progress</th>\n",
       "      <th>Untimely Response</th>\n",
       "    </tr>\n",
       "    <tr>\n",
       "      <th>company</th>\n",
       "      <th></th>\n",
       "      <th></th>\n",
       "      <th></th>\n",
       "      <th></th>\n",
       "      <th></th>\n",
       "      <th></th>\n",
       "      <th></th>\n",
       "      <th></th>\n",
       "    </tr>\n",
       "  </thead>\n",
       "  <tbody>\n",
       "    <tr>\n",
       "      <th>Bank Of America</th>\n",
       "      <td>976</td>\n",
       "      <td>37212</td>\n",
       "      <td>4413</td>\n",
       "      <td>7640</td>\n",
       "      <td>867</td>\n",
       "      <td>4531</td>\n",
       "      <td>232</td>\n",
       "      <td>127</td>\n",
       "    </tr>\n",
       "    <tr>\n",
       "      <th>Wells Fargo &amp; Company</th>\n",
       "      <td>271</td>\n",
       "      <td>32809</td>\n",
       "      <td>3045</td>\n",
       "      <td>2362</td>\n",
       "      <td>326</td>\n",
       "      <td>2842</td>\n",
       "      <td>357</td>\n",
       "      <td>12</td>\n",
       "    </tr>\n",
       "    <tr>\n",
       "      <th>Jpmorgan Chase &amp; Co.</th>\n",
       "      <td>587</td>\n",
       "      <td>25722</td>\n",
       "      <td>3253</td>\n",
       "      <td>1308</td>\n",
       "      <td>813</td>\n",
       "      <td>2011</td>\n",
       "      <td>184</td>\n",
       "      <td>3</td>\n",
       "    </tr>\n",
       "    <tr>\n",
       "      <th>Equifax</th>\n",
       "      <td>40</td>\n",
       "      <td>23877</td>\n",
       "      <td>22</td>\n",
       "      <td>7645</td>\n",
       "      <td>0</td>\n",
       "      <td>0</td>\n",
       "      <td>244</td>\n",
       "      <td>0</td>\n",
       "    </tr>\n",
       "    <tr>\n",
       "      <th>Experian</th>\n",
       "      <td>139</td>\n",
       "      <td>16899</td>\n",
       "      <td>398</td>\n",
       "      <td>12776</td>\n",
       "      <td>0</td>\n",
       "      <td>0</td>\n",
       "      <td>693</td>\n",
       "      <td>0</td>\n",
       "    </tr>\n",
       "    <tr>\n",
       "      <th>Citibank</th>\n",
       "      <td>139</td>\n",
       "      <td>15700</td>\n",
       "      <td>4689</td>\n",
       "      <td>2758</td>\n",
       "      <td>680</td>\n",
       "      <td>1347</td>\n",
       "      <td>124</td>\n",
       "      <td>103</td>\n",
       "    </tr>\n",
       "    <tr>\n",
       "      <th>Transunion Intermediate Holdings, Inc.</th>\n",
       "      <td>16</td>\n",
       "      <td>18805</td>\n",
       "      <td>94</td>\n",
       "      <td>6394</td>\n",
       "      <td>0</td>\n",
       "      <td>0</td>\n",
       "      <td>225</td>\n",
       "      <td>0</td>\n",
       "    </tr>\n",
       "    <tr>\n",
       "      <th>Ocwen</th>\n",
       "      <td>1085</td>\n",
       "      <td>18245</td>\n",
       "      <td>162</td>\n",
       "      <td>401</td>\n",
       "      <td>136</td>\n",
       "      <td>902</td>\n",
       "      <td>44</td>\n",
       "      <td>3</td>\n",
       "    </tr>\n",
       "    <tr>\n",
       "      <th>Capital One</th>\n",
       "      <td>176</td>\n",
       "      <td>10068</td>\n",
       "      <td>2499</td>\n",
       "      <td>1313</td>\n",
       "      <td>384</td>\n",
       "      <td>1135</td>\n",
       "      <td>50</td>\n",
       "      <td>3</td>\n",
       "    </tr>\n",
       "    <tr>\n",
       "      <th>Nationstar Mortgage</th>\n",
       "      <td>322</td>\n",
       "      <td>12466</td>\n",
       "      <td>28</td>\n",
       "      <td>166</td>\n",
       "      <td>6</td>\n",
       "      <td>124</td>\n",
       "      <td>138</td>\n",
       "      <td>0</td>\n",
       "    </tr>\n",
       "    <tr>\n",
       "      <th>U.S. Bancorp</th>\n",
       "      <td>52</td>\n",
       "      <td>6640</td>\n",
       "      <td>1206</td>\n",
       "      <td>1096</td>\n",
       "      <td>147</td>\n",
       "      <td>407</td>\n",
       "      <td>6</td>\n",
       "      <td>0</td>\n",
       "    </tr>\n",
       "    <tr>\n",
       "      <th>Synchrony Financial</th>\n",
       "      <td>9</td>\n",
       "      <td>4869</td>\n",
       "      <td>2594</td>\n",
       "      <td>1374</td>\n",
       "      <td>248</td>\n",
       "      <td>341</td>\n",
       "      <td>0</td>\n",
       "      <td>0</td>\n",
       "    </tr>\n",
       "    <tr>\n",
       "      <th>Ditech Financial Llc</th>\n",
       "      <td>56</td>\n",
       "      <td>7756</td>\n",
       "      <td>115</td>\n",
       "      <td>413</td>\n",
       "      <td>16</td>\n",
       "      <td>229</td>\n",
       "      <td>93</td>\n",
       "      <td>1</td>\n",
       "    </tr>\n",
       "    <tr>\n",
       "      <th>Navient Solutions, Inc.</th>\n",
       "      <td>12</td>\n",
       "      <td>6276</td>\n",
       "      <td>712</td>\n",
       "      <td>667</td>\n",
       "      <td>46</td>\n",
       "      <td>257</td>\n",
       "      <td>37</td>\n",
       "      <td>0</td>\n",
       "    </tr>\n",
       "    <tr>\n",
       "      <th>Pnc Bank N.A.</th>\n",
       "      <td>458</td>\n",
       "      <td>5071</td>\n",
       "      <td>598</td>\n",
       "      <td>319</td>\n",
       "      <td>123</td>\n",
       "      <td>276</td>\n",
       "      <td>107</td>\n",
       "      <td>22</td>\n",
       "    </tr>\n",
       "  </tbody>\n",
       "</table>\n",
       "</div>"
      ],
      "text/plain": [
       "company_response_to_consumer            Closed  Closed With Explanation  \\\n",
       "company                                                                   \n",
       "Bank Of America                            976                    37212   \n",
       "Wells Fargo & Company                      271                    32809   \n",
       "Jpmorgan Chase & Co.                       587                    25722   \n",
       "Equifax                                     40                    23877   \n",
       "Experian                                   139                    16899   \n",
       "Citibank                                   139                    15700   \n",
       "Transunion Intermediate Holdings, Inc.      16                    18805   \n",
       "Ocwen                                     1085                    18245   \n",
       "Capital One                                176                    10068   \n",
       "Nationstar Mortgage                        322                    12466   \n",
       "U.S. Bancorp                                52                     6640   \n",
       "Synchrony Financial                          9                     4869   \n",
       "Ditech Financial Llc                        56                     7756   \n",
       "Navient Solutions, Inc.                     12                     6276   \n",
       "Pnc Bank N.A.                              458                     5071   \n",
       "\n",
       "company_response_to_consumer            Closed With Monetary Relief  \\\n",
       "company                                                               \n",
       "Bank Of America                                                4413   \n",
       "Wells Fargo & Company                                          3045   \n",
       "Jpmorgan Chase & Co.                                           3253   \n",
       "Equifax                                                          22   \n",
       "Experian                                                        398   \n",
       "Citibank                                                       4689   \n",
       "Transunion Intermediate Holdings, Inc.                           94   \n",
       "Ocwen                                                           162   \n",
       "Capital One                                                    2499   \n",
       "Nationstar Mortgage                                              28   \n",
       "U.S. Bancorp                                                   1206   \n",
       "Synchrony Financial                                            2594   \n",
       "Ditech Financial Llc                                            115   \n",
       "Navient Solutions, Inc.                                         712   \n",
       "Pnc Bank N.A.                                                   598   \n",
       "\n",
       "company_response_to_consumer            Closed With Non-Monetary Relief  \\\n",
       "company                                                                   \n",
       "Bank Of America                                                    7640   \n",
       "Wells Fargo & Company                                              2362   \n",
       "Jpmorgan Chase & Co.                                               1308   \n",
       "Equifax                                                            7645   \n",
       "Experian                                                          12776   \n",
       "Citibank                                                           2758   \n",
       "Transunion Intermediate Holdings, Inc.                             6394   \n",
       "Ocwen                                                               401   \n",
       "Capital One                                                        1313   \n",
       "Nationstar Mortgage                                                 166   \n",
       "U.S. Bancorp                                                       1096   \n",
       "Synchrony Financial                                                1374   \n",
       "Ditech Financial Llc                                                413   \n",
       "Navient Solutions, Inc.                                             667   \n",
       "Pnc Bank N.A.                                                       319   \n",
       "\n",
       "company_response_to_consumer            Closed With Relief  \\\n",
       "company                                                      \n",
       "Bank Of America                                        867   \n",
       "Wells Fargo & Company                                  326   \n",
       "Jpmorgan Chase & Co.                                   813   \n",
       "Equifax                                                  0   \n",
       "Experian                                                 0   \n",
       "Citibank                                               680   \n",
       "Transunion Intermediate Holdings, Inc.                   0   \n",
       "Ocwen                                                  136   \n",
       "Capital One                                            384   \n",
       "Nationstar Mortgage                                      6   \n",
       "U.S. Bancorp                                           147   \n",
       "Synchrony Financial                                    248   \n",
       "Ditech Financial Llc                                    16   \n",
       "Navient Solutions, Inc.                                 46   \n",
       "Pnc Bank N.A.                                          123   \n",
       "\n",
       "company_response_to_consumer            Closed Without Relief  In Progress  \\\n",
       "company                                                                      \n",
       "Bank Of America                                          4531          232   \n",
       "Wells Fargo & Company                                    2842          357   \n",
       "Jpmorgan Chase & Co.                                     2011          184   \n",
       "Equifax                                                     0          244   \n",
       "Experian                                                    0          693   \n",
       "Citibank                                                 1347          124   \n",
       "Transunion Intermediate Holdings, Inc.                      0          225   \n",
       "Ocwen                                                     902           44   \n",
       "Capital One                                              1135           50   \n",
       "Nationstar Mortgage                                       124          138   \n",
       "U.S. Bancorp                                              407            6   \n",
       "Synchrony Financial                                       341            0   \n",
       "Ditech Financial Llc                                      229           93   \n",
       "Navient Solutions, Inc.                                   257           37   \n",
       "Pnc Bank N.A.                                             276          107   \n",
       "\n",
       "company_response_to_consumer            Untimely Response  \n",
       "company                                                    \n",
       "Bank Of America                                       127  \n",
       "Wells Fargo & Company                                  12  \n",
       "Jpmorgan Chase & Co.                                    3  \n",
       "Equifax                                                 0  \n",
       "Experian                                                0  \n",
       "Citibank                                              103  \n",
       "Transunion Intermediate Holdings, Inc.                  0  \n",
       "Ocwen                                                   3  \n",
       "Capital One                                             3  \n",
       "Nationstar Mortgage                                     0  \n",
       "U.S. Bancorp                                            0  \n",
       "Synchrony Financial                                     0  \n",
       "Ditech Financial Llc                                    1  \n",
       "Navient Solutions, Inc.                                 0  \n",
       "Pnc Bank N.A.                                          22  "
      ]
     },
     "execution_count": 242,
     "metadata": {},
     "output_type": "execute_result"
    }
   ],
   "source": [
    "# Pivot table\n",
    "response_diff = df.pivot_table(\n",
    "    index='company',\n",
    "    columns='company_response_to_consumer',\n",
    "    values='complaint_id',\n",
    "    aggfunc='count',\n",
    "    fill_value=0\n",
    ")\n",
    "\n",
    "# Keep top 15 companies by total complaints\n",
    "response_diff['Total'] = response_diff.sum(axis=1)\n",
    "response_diff = response_diff.sort_values('Total', ascending=False).head(15).drop(columns='Total')\n",
    "\n",
    "# Stacked bar chart\n",
    "response_diff.plot(kind='bar', stacked=True, figsize=(12,6), colormap='tab20')\n",
    "plt.title(\"Company Responses to Consumers\")\n",
    "plt.xlabel(\"Company\")\n",
    "plt.ylabel(\"Number of Complaints\")\n",
    "plt.legend(title=\"Response Type\", bbox_to_anchor=(1.05, 1))\n",
    "plt.tight_layout()\n",
    "plt.show()\n",
    "\n",
    "response_diff"
   ]
  },
  {
   "cell_type": "markdown",
   "id": "b3a44643",
   "metadata": {},
   "source": [
    "### Geographical Analysis"
   ]
  },
  {
   "cell_type": "markdown",
   "id": "d342a653",
   "metadata": {},
   "source": [
    "9) Complaints per state"
   ]
  },
  {
   "cell_type": "code",
   "execution_count": 243,
   "id": "5d9969e9",
   "metadata": {},
   "outputs": [
    {
     "data": {
      "application/vnd.plotly.v1+json": {
       "config": {
        "plotlyServerURL": "https://plot.ly"
       },
       "data": [
        {
         "coloraxis": "coloraxis",
         "geo": "geo",
         "hovertemplate": "state=%{location}<br>Number of Complaints=%{z}<extra></extra>",
         "locationmode": "USA-states",
         "locations": [
          "CA",
          "FL",
          "TX",
          "NY",
          "GA",
          "NJ",
          "PA",
          "IL",
          "VA",
          "MD",
          "OH",
          "NC",
          "MI",
          "AZ",
          "WA",
          "MA",
          "CO",
          "TN",
          "MO",
          "SC",
          "NV",
          "OR",
          "CT",
          "MN",
          "IN",
          "WI",
          "AL",
          "LA",
          "Unknown",
          "KY",
          "OK",
          "DC",
          "UT",
          "DE",
          "NH",
          "NM",
          "KS",
          "MS",
          "AR",
          "IA",
          "ME",
          "HI",
          "ID",
          "RI",
          "NE",
          "WV",
          "PR",
          "VT",
          "MT",
          "SD",
          "AK",
          "WY",
          "ND",
          "AE",
          "AP",
          "VI",
          "GU",
          "FM",
          "MH",
          "MP",
          "AS",
          "AA",
          "PW"
         ],
         "name": "",
         "type": "choropleth",
         "z": {
          "bdata": "JD8BAKnRAACIoQAAepUAAORfAACIVwAAL04AAKhMAADmRgAAJ0UAAORDAACNPAAAljgAADwwAAAiLQAAYSsAABclAABLIQAAQRwAAGUbAAB7GgAAzBkAAC0ZAAAYGQAA+xcAAO0XAAADFgAAGxUAABcTAACYDwAALg4AAJgMAACHCwAAZQsAAAoLAADYCgAAhgoAAAoKAABRCQAA8ggAAJYHAACRBwAAjwcAAGsHAADOBgAAsQUAACQFAACvAwAAfQMAAPUCAAB+AgAAJwIAANwBAADbAAAAmQAAAJAAAABFAAAAIAAAABsAAAATAAAAEQAAAAkAAAAJAAAA",
          "dtype": "i4"
         }
        }
       ],
       "layout": {
        "coloraxis": {
         "colorbar": {
          "title": {
           "text": "Number of Complaints"
          }
         },
         "colorscale": [
          [
           0,
           "#e2d9e2"
          ],
          [
           0.1111111111111111,
           "#9ebbc9"
          ],
          [
           0.2222222222222222,
           "#6785be"
          ],
          [
           0.3333333333333333,
           "#5e43a5"
          ],
          [
           0.4444444444444444,
           "#421257"
          ],
          [
           0.5555555555555556,
           "#471340"
          ],
          [
           0.6666666666666666,
           "#8e2c50"
          ],
          [
           0.7777777777777778,
           "#ba6657"
          ],
          [
           0.8888888888888888,
           "#ceac94"
          ],
          [
           1,
           "#e2d9e2"
          ]
         ]
        },
        "geo": {
         "center": {},
         "domain": {
          "x": [
           0,
           1
          ],
          "y": [
           0,
           1
          ]
         },
         "lakecolor": "lightblue",
         "scope": "usa",
         "showlakes": true
        },
        "height": 600,
        "legend": {
         "tracegroupgap": 0
        },
        "margin": {
         "t": 60
        },
        "template": {
         "data": {
          "bar": [
           {
            "error_x": {
             "color": "#2a3f5f"
            },
            "error_y": {
             "color": "#2a3f5f"
            },
            "marker": {
             "line": {
              "color": "#E5ECF6",
              "width": 0.5
             },
             "pattern": {
              "fillmode": "overlay",
              "size": 10,
              "solidity": 0.2
             }
            },
            "type": "bar"
           }
          ],
          "barpolar": [
           {
            "marker": {
             "line": {
              "color": "#E5ECF6",
              "width": 0.5
             },
             "pattern": {
              "fillmode": "overlay",
              "size": 10,
              "solidity": 0.2
             }
            },
            "type": "barpolar"
           }
          ],
          "carpet": [
           {
            "aaxis": {
             "endlinecolor": "#2a3f5f",
             "gridcolor": "white",
             "linecolor": "white",
             "minorgridcolor": "white",
             "startlinecolor": "#2a3f5f"
            },
            "baxis": {
             "endlinecolor": "#2a3f5f",
             "gridcolor": "white",
             "linecolor": "white",
             "minorgridcolor": "white",
             "startlinecolor": "#2a3f5f"
            },
            "type": "carpet"
           }
          ],
          "choropleth": [
           {
            "colorbar": {
             "outlinewidth": 0,
             "ticks": ""
            },
            "type": "choropleth"
           }
          ],
          "contour": [
           {
            "colorbar": {
             "outlinewidth": 0,
             "ticks": ""
            },
            "colorscale": [
             [
              0,
              "#0d0887"
             ],
             [
              0.1111111111111111,
              "#46039f"
             ],
             [
              0.2222222222222222,
              "#7201a8"
             ],
             [
              0.3333333333333333,
              "#9c179e"
             ],
             [
              0.4444444444444444,
              "#bd3786"
             ],
             [
              0.5555555555555556,
              "#d8576b"
             ],
             [
              0.6666666666666666,
              "#ed7953"
             ],
             [
              0.7777777777777778,
              "#fb9f3a"
             ],
             [
              0.8888888888888888,
              "#fdca26"
             ],
             [
              1,
              "#f0f921"
             ]
            ],
            "type": "contour"
           }
          ],
          "contourcarpet": [
           {
            "colorbar": {
             "outlinewidth": 0,
             "ticks": ""
            },
            "type": "contourcarpet"
           }
          ],
          "heatmap": [
           {
            "colorbar": {
             "outlinewidth": 0,
             "ticks": ""
            },
            "colorscale": [
             [
              0,
              "#0d0887"
             ],
             [
              0.1111111111111111,
              "#46039f"
             ],
             [
              0.2222222222222222,
              "#7201a8"
             ],
             [
              0.3333333333333333,
              "#9c179e"
             ],
             [
              0.4444444444444444,
              "#bd3786"
             ],
             [
              0.5555555555555556,
              "#d8576b"
             ],
             [
              0.6666666666666666,
              "#ed7953"
             ],
             [
              0.7777777777777778,
              "#fb9f3a"
             ],
             [
              0.8888888888888888,
              "#fdca26"
             ],
             [
              1,
              "#f0f921"
             ]
            ],
            "type": "heatmap"
           }
          ],
          "histogram": [
           {
            "marker": {
             "pattern": {
              "fillmode": "overlay",
              "size": 10,
              "solidity": 0.2
             }
            },
            "type": "histogram"
           }
          ],
          "histogram2d": [
           {
            "colorbar": {
             "outlinewidth": 0,
             "ticks": ""
            },
            "colorscale": [
             [
              0,
              "#0d0887"
             ],
             [
              0.1111111111111111,
              "#46039f"
             ],
             [
              0.2222222222222222,
              "#7201a8"
             ],
             [
              0.3333333333333333,
              "#9c179e"
             ],
             [
              0.4444444444444444,
              "#bd3786"
             ],
             [
              0.5555555555555556,
              "#d8576b"
             ],
             [
              0.6666666666666666,
              "#ed7953"
             ],
             [
              0.7777777777777778,
              "#fb9f3a"
             ],
             [
              0.8888888888888888,
              "#fdca26"
             ],
             [
              1,
              "#f0f921"
             ]
            ],
            "type": "histogram2d"
           }
          ],
          "histogram2dcontour": [
           {
            "colorbar": {
             "outlinewidth": 0,
             "ticks": ""
            },
            "colorscale": [
             [
              0,
              "#0d0887"
             ],
             [
              0.1111111111111111,
              "#46039f"
             ],
             [
              0.2222222222222222,
              "#7201a8"
             ],
             [
              0.3333333333333333,
              "#9c179e"
             ],
             [
              0.4444444444444444,
              "#bd3786"
             ],
             [
              0.5555555555555556,
              "#d8576b"
             ],
             [
              0.6666666666666666,
              "#ed7953"
             ],
             [
              0.7777777777777778,
              "#fb9f3a"
             ],
             [
              0.8888888888888888,
              "#fdca26"
             ],
             [
              1,
              "#f0f921"
             ]
            ],
            "type": "histogram2dcontour"
           }
          ],
          "mesh3d": [
           {
            "colorbar": {
             "outlinewidth": 0,
             "ticks": ""
            },
            "type": "mesh3d"
           }
          ],
          "parcoords": [
           {
            "line": {
             "colorbar": {
              "outlinewidth": 0,
              "ticks": ""
             }
            },
            "type": "parcoords"
           }
          ],
          "pie": [
           {
            "automargin": true,
            "type": "pie"
           }
          ],
          "scatter": [
           {
            "fillpattern": {
             "fillmode": "overlay",
             "size": 10,
             "solidity": 0.2
            },
            "type": "scatter"
           }
          ],
          "scatter3d": [
           {
            "line": {
             "colorbar": {
              "outlinewidth": 0,
              "ticks": ""
             }
            },
            "marker": {
             "colorbar": {
              "outlinewidth": 0,
              "ticks": ""
             }
            },
            "type": "scatter3d"
           }
          ],
          "scattercarpet": [
           {
            "marker": {
             "colorbar": {
              "outlinewidth": 0,
              "ticks": ""
             }
            },
            "type": "scattercarpet"
           }
          ],
          "scattergeo": [
           {
            "marker": {
             "colorbar": {
              "outlinewidth": 0,
              "ticks": ""
             }
            },
            "type": "scattergeo"
           }
          ],
          "scattergl": [
           {
            "marker": {
             "colorbar": {
              "outlinewidth": 0,
              "ticks": ""
             }
            },
            "type": "scattergl"
           }
          ],
          "scattermap": [
           {
            "marker": {
             "colorbar": {
              "outlinewidth": 0,
              "ticks": ""
             }
            },
            "type": "scattermap"
           }
          ],
          "scattermapbox": [
           {
            "marker": {
             "colorbar": {
              "outlinewidth": 0,
              "ticks": ""
             }
            },
            "type": "scattermapbox"
           }
          ],
          "scatterpolar": [
           {
            "marker": {
             "colorbar": {
              "outlinewidth": 0,
              "ticks": ""
             }
            },
            "type": "scatterpolar"
           }
          ],
          "scatterpolargl": [
           {
            "marker": {
             "colorbar": {
              "outlinewidth": 0,
              "ticks": ""
             }
            },
            "type": "scatterpolargl"
           }
          ],
          "scatterternary": [
           {
            "marker": {
             "colorbar": {
              "outlinewidth": 0,
              "ticks": ""
             }
            },
            "type": "scatterternary"
           }
          ],
          "surface": [
           {
            "colorbar": {
             "outlinewidth": 0,
             "ticks": ""
            },
            "colorscale": [
             [
              0,
              "#0d0887"
             ],
             [
              0.1111111111111111,
              "#46039f"
             ],
             [
              0.2222222222222222,
              "#7201a8"
             ],
             [
              0.3333333333333333,
              "#9c179e"
             ],
             [
              0.4444444444444444,
              "#bd3786"
             ],
             [
              0.5555555555555556,
              "#d8576b"
             ],
             [
              0.6666666666666666,
              "#ed7953"
             ],
             [
              0.7777777777777778,
              "#fb9f3a"
             ],
             [
              0.8888888888888888,
              "#fdca26"
             ],
             [
              1,
              "#f0f921"
             ]
            ],
            "type": "surface"
           }
          ],
          "table": [
           {
            "cells": {
             "fill": {
              "color": "#EBF0F8"
             },
             "line": {
              "color": "white"
             }
            },
            "header": {
             "fill": {
              "color": "#C8D4E3"
             },
             "line": {
              "color": "white"
             }
            },
            "type": "table"
           }
          ]
         },
         "layout": {
          "annotationdefaults": {
           "arrowcolor": "#2a3f5f",
           "arrowhead": 0,
           "arrowwidth": 1
          },
          "autotypenumbers": "strict",
          "coloraxis": {
           "colorbar": {
            "outlinewidth": 0,
            "ticks": ""
           }
          },
          "colorscale": {
           "diverging": [
            [
             0,
             "#8e0152"
            ],
            [
             0.1,
             "#c51b7d"
            ],
            [
             0.2,
             "#de77ae"
            ],
            [
             0.3,
             "#f1b6da"
            ],
            [
             0.4,
             "#fde0ef"
            ],
            [
             0.5,
             "#f7f7f7"
            ],
            [
             0.6,
             "#e6f5d0"
            ],
            [
             0.7,
             "#b8e186"
            ],
            [
             0.8,
             "#7fbc41"
            ],
            [
             0.9,
             "#4d9221"
            ],
            [
             1,
             "#276419"
            ]
           ],
           "sequential": [
            [
             0,
             "#0d0887"
            ],
            [
             0.1111111111111111,
             "#46039f"
            ],
            [
             0.2222222222222222,
             "#7201a8"
            ],
            [
             0.3333333333333333,
             "#9c179e"
            ],
            [
             0.4444444444444444,
             "#bd3786"
            ],
            [
             0.5555555555555556,
             "#d8576b"
            ],
            [
             0.6666666666666666,
             "#ed7953"
            ],
            [
             0.7777777777777778,
             "#fb9f3a"
            ],
            [
             0.8888888888888888,
             "#fdca26"
            ],
            [
             1,
             "#f0f921"
            ]
           ],
           "sequentialminus": [
            [
             0,
             "#0d0887"
            ],
            [
             0.1111111111111111,
             "#46039f"
            ],
            [
             0.2222222222222222,
             "#7201a8"
            ],
            [
             0.3333333333333333,
             "#9c179e"
            ],
            [
             0.4444444444444444,
             "#bd3786"
            ],
            [
             0.5555555555555556,
             "#d8576b"
            ],
            [
             0.6666666666666666,
             "#ed7953"
            ],
            [
             0.7777777777777778,
             "#fb9f3a"
            ],
            [
             0.8888888888888888,
             "#fdca26"
            ],
            [
             1,
             "#f0f921"
            ]
           ]
          },
          "colorway": [
           "#636efa",
           "#EF553B",
           "#00cc96",
           "#ab63fa",
           "#FFA15A",
           "#19d3f3",
           "#FF6692",
           "#B6E880",
           "#FF97FF",
           "#FECB52"
          ],
          "font": {
           "color": "#2a3f5f"
          },
          "geo": {
           "bgcolor": "white",
           "lakecolor": "white",
           "landcolor": "#E5ECF6",
           "showlakes": true,
           "showland": true,
           "subunitcolor": "white"
          },
          "hoverlabel": {
           "align": "left"
          },
          "hovermode": "closest",
          "mapbox": {
           "style": "light"
          },
          "paper_bgcolor": "white",
          "plot_bgcolor": "#E5ECF6",
          "polar": {
           "angularaxis": {
            "gridcolor": "white",
            "linecolor": "white",
            "ticks": ""
           },
           "bgcolor": "#E5ECF6",
           "radialaxis": {
            "gridcolor": "white",
            "linecolor": "white",
            "ticks": ""
           }
          },
          "scene": {
           "xaxis": {
            "backgroundcolor": "#E5ECF6",
            "gridcolor": "white",
            "gridwidth": 2,
            "linecolor": "white",
            "showbackground": true,
            "ticks": "",
            "zerolinecolor": "white"
           },
           "yaxis": {
            "backgroundcolor": "#E5ECF6",
            "gridcolor": "white",
            "gridwidth": 2,
            "linecolor": "white",
            "showbackground": true,
            "ticks": "",
            "zerolinecolor": "white"
           },
           "zaxis": {
            "backgroundcolor": "#E5ECF6",
            "gridcolor": "white",
            "gridwidth": 2,
            "linecolor": "white",
            "showbackground": true,
            "ticks": "",
            "zerolinecolor": "white"
           }
          },
          "shapedefaults": {
           "line": {
            "color": "#2a3f5f"
           }
          },
          "ternary": {
           "aaxis": {
            "gridcolor": "white",
            "linecolor": "white",
            "ticks": ""
           },
           "baxis": {
            "gridcolor": "white",
            "linecolor": "white",
            "ticks": ""
           },
           "bgcolor": "#E5ECF6",
           "caxis": {
            "gridcolor": "white",
            "linecolor": "white",
            "ticks": ""
           }
          },
          "title": {
           "x": 0.05
          },
          "xaxis": {
           "automargin": true,
           "gridcolor": "white",
           "linecolor": "white",
           "ticks": "",
           "title": {
            "standoff": 15
           },
           "zerolinecolor": "white",
           "zerolinewidth": 2
          },
          "yaxis": {
           "automargin": true,
           "gridcolor": "white",
           "linecolor": "white",
           "ticks": "",
           "title": {
            "standoff": 15
           },
           "zerolinecolor": "white",
           "zerolinewidth": 2
          }
         }
        },
        "title": {
         "text": "Consumer Complaints per State"
        },
        "width": 1000
       }
      },
      "text/html": [
       "<div>            <script src=\"https://cdnjs.cloudflare.com/ajax/libs/mathjax/2.7.5/MathJax.js?config=TeX-AMS-MML_SVG\"></script><script type=\"text/javascript\">if (window.MathJax && window.MathJax.Hub && window.MathJax.Hub.Config) {window.MathJax.Hub.Config({SVG: {font: \"STIX-Web\"}});}</script>                <script type=\"text/javascript\">window.PlotlyConfig = {MathJaxConfig: 'local'};</script>\n",
       "        <script charset=\"utf-8\" src=\"https://cdn.plot.ly/plotly-3.1.0.min.js\" integrity=\"sha256-Ei4740bWZhaUTQuD6q9yQlgVCMPBz6CZWhevDYPv93A=\" crossorigin=\"anonymous\"></script>                <div id=\"3b0be56b-e7db-4490-9b5c-034ec15fba6b\" class=\"plotly-graph-div\" style=\"height:600px; width:1000px;\"></div>            <script type=\"text/javascript\">                window.PLOTLYENV=window.PLOTLYENV || {};                                if (document.getElementById(\"3b0be56b-e7db-4490-9b5c-034ec15fba6b\")) {                    Plotly.newPlot(                        \"3b0be56b-e7db-4490-9b5c-034ec15fba6b\",                        [{\"coloraxis\":\"coloraxis\",\"geo\":\"geo\",\"hovertemplate\":\"state=%{location}\\u003cbr\\u003eNumber of Complaints=%{z}\\u003cextra\\u003e\\u003c\\u002fextra\\u003e\",\"locationmode\":\"USA-states\",\"locations\":[\"CA\",\"FL\",\"TX\",\"NY\",\"GA\",\"NJ\",\"PA\",\"IL\",\"VA\",\"MD\",\"OH\",\"NC\",\"MI\",\"AZ\",\"WA\",\"MA\",\"CO\",\"TN\",\"MO\",\"SC\",\"NV\",\"OR\",\"CT\",\"MN\",\"IN\",\"WI\",\"AL\",\"LA\",\"Unknown\",\"KY\",\"OK\",\"DC\",\"UT\",\"DE\",\"NH\",\"NM\",\"KS\",\"MS\",\"AR\",\"IA\",\"ME\",\"HI\",\"ID\",\"RI\",\"NE\",\"WV\",\"PR\",\"VT\",\"MT\",\"SD\",\"AK\",\"WY\",\"ND\",\"AE\",\"AP\",\"VI\",\"GU\",\"FM\",\"MH\",\"MP\",\"AS\",\"AA\",\"PW\"],\"name\":\"\",\"z\":{\"dtype\":\"i4\",\"bdata\":\"JD8BAKnRAACIoQAAepUAAORfAACIVwAAL04AAKhMAADmRgAAJ0UAAORDAACNPAAAljgAADwwAAAiLQAAYSsAABclAABLIQAAQRwAAGUbAAB7GgAAzBkAAC0ZAAAYGQAA+xcAAO0XAAADFgAAGxUAABcTAACYDwAALg4AAJgMAACHCwAAZQsAAAoLAADYCgAAhgoAAAoKAABRCQAA8ggAAJYHAACRBwAAjwcAAGsHAADOBgAAsQUAACQFAACvAwAAfQMAAPUCAAB+AgAAJwIAANwBAADbAAAAmQAAAJAAAABFAAAAIAAAABsAAAATAAAAEQAAAAkAAAAJAAAA\"},\"type\":\"choropleth\"}],                        {\"template\":{\"data\":{\"histogram2dcontour\":[{\"type\":\"histogram2dcontour\",\"colorbar\":{\"outlinewidth\":0,\"ticks\":\"\"},\"colorscale\":[[0.0,\"#0d0887\"],[0.1111111111111111,\"#46039f\"],[0.2222222222222222,\"#7201a8\"],[0.3333333333333333,\"#9c179e\"],[0.4444444444444444,\"#bd3786\"],[0.5555555555555556,\"#d8576b\"],[0.6666666666666666,\"#ed7953\"],[0.7777777777777778,\"#fb9f3a\"],[0.8888888888888888,\"#fdca26\"],[1.0,\"#f0f921\"]]}],\"choropleth\":[{\"type\":\"choropleth\",\"colorbar\":{\"outlinewidth\":0,\"ticks\":\"\"}}],\"histogram2d\":[{\"type\":\"histogram2d\",\"colorbar\":{\"outlinewidth\":0,\"ticks\":\"\"},\"colorscale\":[[0.0,\"#0d0887\"],[0.1111111111111111,\"#46039f\"],[0.2222222222222222,\"#7201a8\"],[0.3333333333333333,\"#9c179e\"],[0.4444444444444444,\"#bd3786\"],[0.5555555555555556,\"#d8576b\"],[0.6666666666666666,\"#ed7953\"],[0.7777777777777778,\"#fb9f3a\"],[0.8888888888888888,\"#fdca26\"],[1.0,\"#f0f921\"]]}],\"heatmap\":[{\"type\":\"heatmap\",\"colorbar\":{\"outlinewidth\":0,\"ticks\":\"\"},\"colorscale\":[[0.0,\"#0d0887\"],[0.1111111111111111,\"#46039f\"],[0.2222222222222222,\"#7201a8\"],[0.3333333333333333,\"#9c179e\"],[0.4444444444444444,\"#bd3786\"],[0.5555555555555556,\"#d8576b\"],[0.6666666666666666,\"#ed7953\"],[0.7777777777777778,\"#fb9f3a\"],[0.8888888888888888,\"#fdca26\"],[1.0,\"#f0f921\"]]}],\"contourcarpet\":[{\"type\":\"contourcarpet\",\"colorbar\":{\"outlinewidth\":0,\"ticks\":\"\"}}],\"contour\":[{\"type\":\"contour\",\"colorbar\":{\"outlinewidth\":0,\"ticks\":\"\"},\"colorscale\":[[0.0,\"#0d0887\"],[0.1111111111111111,\"#46039f\"],[0.2222222222222222,\"#7201a8\"],[0.3333333333333333,\"#9c179e\"],[0.4444444444444444,\"#bd3786\"],[0.5555555555555556,\"#d8576b\"],[0.6666666666666666,\"#ed7953\"],[0.7777777777777778,\"#fb9f3a\"],[0.8888888888888888,\"#fdca26\"],[1.0,\"#f0f921\"]]}],\"surface\":[{\"type\":\"surface\",\"colorbar\":{\"outlinewidth\":0,\"ticks\":\"\"},\"colorscale\":[[0.0,\"#0d0887\"],[0.1111111111111111,\"#46039f\"],[0.2222222222222222,\"#7201a8\"],[0.3333333333333333,\"#9c179e\"],[0.4444444444444444,\"#bd3786\"],[0.5555555555555556,\"#d8576b\"],[0.6666666666666666,\"#ed7953\"],[0.7777777777777778,\"#fb9f3a\"],[0.8888888888888888,\"#fdca26\"],[1.0,\"#f0f921\"]]}],\"mesh3d\":[{\"type\":\"mesh3d\",\"colorbar\":{\"outlinewidth\":0,\"ticks\":\"\"}}],\"scatter\":[{\"fillpattern\":{\"fillmode\":\"overlay\",\"size\":10,\"solidity\":0.2},\"type\":\"scatter\"}],\"parcoords\":[{\"type\":\"parcoords\",\"line\":{\"colorbar\":{\"outlinewidth\":0,\"ticks\":\"\"}}}],\"scatterpolargl\":[{\"type\":\"scatterpolargl\",\"marker\":{\"colorbar\":{\"outlinewidth\":0,\"ticks\":\"\"}}}],\"bar\":[{\"error_x\":{\"color\":\"#2a3f5f\"},\"error_y\":{\"color\":\"#2a3f5f\"},\"marker\":{\"line\":{\"color\":\"#E5ECF6\",\"width\":0.5},\"pattern\":{\"fillmode\":\"overlay\",\"size\":10,\"solidity\":0.2}},\"type\":\"bar\"}],\"scattergeo\":[{\"type\":\"scattergeo\",\"marker\":{\"colorbar\":{\"outlinewidth\":0,\"ticks\":\"\"}}}],\"scatterpolar\":[{\"type\":\"scatterpolar\",\"marker\":{\"colorbar\":{\"outlinewidth\":0,\"ticks\":\"\"}}}],\"histogram\":[{\"marker\":{\"pattern\":{\"fillmode\":\"overlay\",\"size\":10,\"solidity\":0.2}},\"type\":\"histogram\"}],\"scattergl\":[{\"type\":\"scattergl\",\"marker\":{\"colorbar\":{\"outlinewidth\":0,\"ticks\":\"\"}}}],\"scatter3d\":[{\"type\":\"scatter3d\",\"line\":{\"colorbar\":{\"outlinewidth\":0,\"ticks\":\"\"}},\"marker\":{\"colorbar\":{\"outlinewidth\":0,\"ticks\":\"\"}}}],\"scattermap\":[{\"type\":\"scattermap\",\"marker\":{\"colorbar\":{\"outlinewidth\":0,\"ticks\":\"\"}}}],\"scattermapbox\":[{\"type\":\"scattermapbox\",\"marker\":{\"colorbar\":{\"outlinewidth\":0,\"ticks\":\"\"}}}],\"scatterternary\":[{\"type\":\"scatterternary\",\"marker\":{\"colorbar\":{\"outlinewidth\":0,\"ticks\":\"\"}}}],\"scattercarpet\":[{\"type\":\"scattercarpet\",\"marker\":{\"colorbar\":{\"outlinewidth\":0,\"ticks\":\"\"}}}],\"carpet\":[{\"aaxis\":{\"endlinecolor\":\"#2a3f5f\",\"gridcolor\":\"white\",\"linecolor\":\"white\",\"minorgridcolor\":\"white\",\"startlinecolor\":\"#2a3f5f\"},\"baxis\":{\"endlinecolor\":\"#2a3f5f\",\"gridcolor\":\"white\",\"linecolor\":\"white\",\"minorgridcolor\":\"white\",\"startlinecolor\":\"#2a3f5f\"},\"type\":\"carpet\"}],\"table\":[{\"cells\":{\"fill\":{\"color\":\"#EBF0F8\"},\"line\":{\"color\":\"white\"}},\"header\":{\"fill\":{\"color\":\"#C8D4E3\"},\"line\":{\"color\":\"white\"}},\"type\":\"table\"}],\"barpolar\":[{\"marker\":{\"line\":{\"color\":\"#E5ECF6\",\"width\":0.5},\"pattern\":{\"fillmode\":\"overlay\",\"size\":10,\"solidity\":0.2}},\"type\":\"barpolar\"}],\"pie\":[{\"automargin\":true,\"type\":\"pie\"}]},\"layout\":{\"autotypenumbers\":\"strict\",\"colorway\":[\"#636efa\",\"#EF553B\",\"#00cc96\",\"#ab63fa\",\"#FFA15A\",\"#19d3f3\",\"#FF6692\",\"#B6E880\",\"#FF97FF\",\"#FECB52\"],\"font\":{\"color\":\"#2a3f5f\"},\"hovermode\":\"closest\",\"hoverlabel\":{\"align\":\"left\"},\"paper_bgcolor\":\"white\",\"plot_bgcolor\":\"#E5ECF6\",\"polar\":{\"bgcolor\":\"#E5ECF6\",\"angularaxis\":{\"gridcolor\":\"white\",\"linecolor\":\"white\",\"ticks\":\"\"},\"radialaxis\":{\"gridcolor\":\"white\",\"linecolor\":\"white\",\"ticks\":\"\"}},\"ternary\":{\"bgcolor\":\"#E5ECF6\",\"aaxis\":{\"gridcolor\":\"white\",\"linecolor\":\"white\",\"ticks\":\"\"},\"baxis\":{\"gridcolor\":\"white\",\"linecolor\":\"white\",\"ticks\":\"\"},\"caxis\":{\"gridcolor\":\"white\",\"linecolor\":\"white\",\"ticks\":\"\"}},\"coloraxis\":{\"colorbar\":{\"outlinewidth\":0,\"ticks\":\"\"}},\"colorscale\":{\"sequential\":[[0.0,\"#0d0887\"],[0.1111111111111111,\"#46039f\"],[0.2222222222222222,\"#7201a8\"],[0.3333333333333333,\"#9c179e\"],[0.4444444444444444,\"#bd3786\"],[0.5555555555555556,\"#d8576b\"],[0.6666666666666666,\"#ed7953\"],[0.7777777777777778,\"#fb9f3a\"],[0.8888888888888888,\"#fdca26\"],[1.0,\"#f0f921\"]],\"sequentialminus\":[[0.0,\"#0d0887\"],[0.1111111111111111,\"#46039f\"],[0.2222222222222222,\"#7201a8\"],[0.3333333333333333,\"#9c179e\"],[0.4444444444444444,\"#bd3786\"],[0.5555555555555556,\"#d8576b\"],[0.6666666666666666,\"#ed7953\"],[0.7777777777777778,\"#fb9f3a\"],[0.8888888888888888,\"#fdca26\"],[1.0,\"#f0f921\"]],\"diverging\":[[0,\"#8e0152\"],[0.1,\"#c51b7d\"],[0.2,\"#de77ae\"],[0.3,\"#f1b6da\"],[0.4,\"#fde0ef\"],[0.5,\"#f7f7f7\"],[0.6,\"#e6f5d0\"],[0.7,\"#b8e186\"],[0.8,\"#7fbc41\"],[0.9,\"#4d9221\"],[1,\"#276419\"]]},\"xaxis\":{\"gridcolor\":\"white\",\"linecolor\":\"white\",\"ticks\":\"\",\"title\":{\"standoff\":15},\"zerolinecolor\":\"white\",\"automargin\":true,\"zerolinewidth\":2},\"yaxis\":{\"gridcolor\":\"white\",\"linecolor\":\"white\",\"ticks\":\"\",\"title\":{\"standoff\":15},\"zerolinecolor\":\"white\",\"automargin\":true,\"zerolinewidth\":2},\"scene\":{\"xaxis\":{\"backgroundcolor\":\"#E5ECF6\",\"gridcolor\":\"white\",\"linecolor\":\"white\",\"showbackground\":true,\"ticks\":\"\",\"zerolinecolor\":\"white\",\"gridwidth\":2},\"yaxis\":{\"backgroundcolor\":\"#E5ECF6\",\"gridcolor\":\"white\",\"linecolor\":\"white\",\"showbackground\":true,\"ticks\":\"\",\"zerolinecolor\":\"white\",\"gridwidth\":2},\"zaxis\":{\"backgroundcolor\":\"#E5ECF6\",\"gridcolor\":\"white\",\"linecolor\":\"white\",\"showbackground\":true,\"ticks\":\"\",\"zerolinecolor\":\"white\",\"gridwidth\":2}},\"shapedefaults\":{\"line\":{\"color\":\"#2a3f5f\"}},\"annotationdefaults\":{\"arrowcolor\":\"#2a3f5f\",\"arrowhead\":0,\"arrowwidth\":1},\"geo\":{\"bgcolor\":\"white\",\"landcolor\":\"#E5ECF6\",\"subunitcolor\":\"white\",\"showland\":true,\"showlakes\":true,\"lakecolor\":\"white\"},\"title\":{\"x\":0.05},\"mapbox\":{\"style\":\"light\"}}},\"geo\":{\"domain\":{\"x\":[0.0,1.0],\"y\":[0.0,1.0]},\"center\":{},\"scope\":\"usa\",\"showlakes\":true,\"lakecolor\":\"lightblue\"},\"coloraxis\":{\"colorbar\":{\"title\":{\"text\":\"Number of Complaints\"}},\"colorscale\":[[0.0,\"#e2d9e2\"],[0.1111111111111111,\"#9ebbc9\"],[0.2222222222222222,\"#6785be\"],[0.3333333333333333,\"#5e43a5\"],[0.4444444444444444,\"#421257\"],[0.5555555555555556,\"#471340\"],[0.6666666666666666,\"#8e2c50\"],[0.7777777777777778,\"#ba6657\"],[0.8888888888888888,\"#ceac94\"],[1.0,\"#e2d9e2\"]]},\"legend\":{\"tracegroupgap\":0},\"margin\":{\"t\":60},\"title\":{\"text\":\"Consumer Complaints per State\"},\"width\":1000,\"height\":600},                        {\"responsive\": true}                    ).then(function(){\n",
       "                            \n",
       "var gd = document.getElementById('3b0be56b-e7db-4490-9b5c-034ec15fba6b');\n",
       "var x = new MutationObserver(function (mutations, observer) {{\n",
       "        var display = window.getComputedStyle(gd).display;\n",
       "        if (!display || display === 'none') {{\n",
       "            console.log([gd, 'removed!']);\n",
       "            Plotly.purge(gd);\n",
       "            observer.disconnect();\n",
       "        }}\n",
       "}});\n",
       "\n",
       "// Listen for the removal of the full notebook cells\n",
       "var notebookContainer = gd.closest('#notebook-container');\n",
       "if (notebookContainer) {{\n",
       "    x.observe(notebookContainer, {childList: true});\n",
       "}}\n",
       "\n",
       "// Listen for the clearing of the current output cell\n",
       "var outputEl = gd.closest('.output');\n",
       "if (outputEl) {{\n",
       "    x.observe(outputEl, {childList: true});\n",
       "}}\n",
       "\n",
       "                        })                };            </script>        </div>"
      ]
     },
     "metadata": {},
     "output_type": "display_data"
    }
   ],
   "source": [
    "state_counts=df['state'].value_counts().reset_index()\n",
    "state_counts.columns=['state','count']\n",
    "\n",
    "fig = px.choropleth(\n",
    "    state_counts,\n",
    "    locations='state',        # Column with state codes\n",
    "    locationmode='USA-states', # Tells Plotly these are US states\n",
    "    color='count',       # Values to color by\n",
    "    color_continuous_scale='twilight', # Choose your color scale\n",
    "    scope='usa',              # Focus on the USA\n",
    "    labels={'count':'Number of Complaints'}\n",
    ")\n",
    "\n",
    "fig.update_layout(\n",
    "    title_text='Consumer Complaints per State',\n",
    "    geo=dict(showlakes=True, lakecolor='lightblue'),\n",
    "    width=1000,  \n",
    "    height=600 \n",
    ")\n",
    "\n",
    "fig.show()"
   ]
  },
  {
   "cell_type": "markdown",
   "id": "5fea201e",
   "metadata": {},
   "source": [
    "10) Complaints per ZIP code"
   ]
  },
  {
   "cell_type": "code",
   "execution_count": 244,
   "id": "121e3ea9",
   "metadata": {},
   "outputs": [
    {
     "data": {
      "application/vnd.plotly.v1+json": {
       "config": {
        "plotlyServerURL": "https://plot.ly"
       },
       "data": [
        {
         "hovertemplate": "zipcode=%{x}<br>count=%{y}<extra></extra>",
         "legendgroup": "",
         "marker": {
          "color": "#636efa",
          "pattern": {
           "shape": ""
          }
         },
         "name": "",
         "orientation": "v",
         "showlegend": false,
         "textposition": "auto",
         "type": "bar",
         "x": [
          "00000",
          "300Xx",
          "48382",
          "750Xx",
          "900Xx",
          "770Xx",
          "331Xx",
          "945Xx",
          "330Xx",
          "606Xx",
          "891Xx",
          "207Xx",
          "334Xx",
          "33071",
          "112Xx"
         ],
         "xaxis": "x",
         "y": {
          "bdata": "mRG1BJ8DggNNA00DSAMwA/4C+ALnAqYClAJ9Al0C",
          "dtype": "i2"
         },
         "yaxis": "y"
        }
       ],
       "layout": {
        "barmode": "relative",
        "legend": {
         "tracegroupgap": 0
        },
        "template": {
         "data": {
          "bar": [
           {
            "error_x": {
             "color": "#2a3f5f"
            },
            "error_y": {
             "color": "#2a3f5f"
            },
            "marker": {
             "line": {
              "color": "#E5ECF6",
              "width": 0.5
             },
             "pattern": {
              "fillmode": "overlay",
              "size": 10,
              "solidity": 0.2
             }
            },
            "type": "bar"
           }
          ],
          "barpolar": [
           {
            "marker": {
             "line": {
              "color": "#E5ECF6",
              "width": 0.5
             },
             "pattern": {
              "fillmode": "overlay",
              "size": 10,
              "solidity": 0.2
             }
            },
            "type": "barpolar"
           }
          ],
          "carpet": [
           {
            "aaxis": {
             "endlinecolor": "#2a3f5f",
             "gridcolor": "white",
             "linecolor": "white",
             "minorgridcolor": "white",
             "startlinecolor": "#2a3f5f"
            },
            "baxis": {
             "endlinecolor": "#2a3f5f",
             "gridcolor": "white",
             "linecolor": "white",
             "minorgridcolor": "white",
             "startlinecolor": "#2a3f5f"
            },
            "type": "carpet"
           }
          ],
          "choropleth": [
           {
            "colorbar": {
             "outlinewidth": 0,
             "ticks": ""
            },
            "type": "choropleth"
           }
          ],
          "contour": [
           {
            "colorbar": {
             "outlinewidth": 0,
             "ticks": ""
            },
            "colorscale": [
             [
              0,
              "#0d0887"
             ],
             [
              0.1111111111111111,
              "#46039f"
             ],
             [
              0.2222222222222222,
              "#7201a8"
             ],
             [
              0.3333333333333333,
              "#9c179e"
             ],
             [
              0.4444444444444444,
              "#bd3786"
             ],
             [
              0.5555555555555556,
              "#d8576b"
             ],
             [
              0.6666666666666666,
              "#ed7953"
             ],
             [
              0.7777777777777778,
              "#fb9f3a"
             ],
             [
              0.8888888888888888,
              "#fdca26"
             ],
             [
              1,
              "#f0f921"
             ]
            ],
            "type": "contour"
           }
          ],
          "contourcarpet": [
           {
            "colorbar": {
             "outlinewidth": 0,
             "ticks": ""
            },
            "type": "contourcarpet"
           }
          ],
          "heatmap": [
           {
            "colorbar": {
             "outlinewidth": 0,
             "ticks": ""
            },
            "colorscale": [
             [
              0,
              "#0d0887"
             ],
             [
              0.1111111111111111,
              "#46039f"
             ],
             [
              0.2222222222222222,
              "#7201a8"
             ],
             [
              0.3333333333333333,
              "#9c179e"
             ],
             [
              0.4444444444444444,
              "#bd3786"
             ],
             [
              0.5555555555555556,
              "#d8576b"
             ],
             [
              0.6666666666666666,
              "#ed7953"
             ],
             [
              0.7777777777777778,
              "#fb9f3a"
             ],
             [
              0.8888888888888888,
              "#fdca26"
             ],
             [
              1,
              "#f0f921"
             ]
            ],
            "type": "heatmap"
           }
          ],
          "histogram": [
           {
            "marker": {
             "pattern": {
              "fillmode": "overlay",
              "size": 10,
              "solidity": 0.2
             }
            },
            "type": "histogram"
           }
          ],
          "histogram2d": [
           {
            "colorbar": {
             "outlinewidth": 0,
             "ticks": ""
            },
            "colorscale": [
             [
              0,
              "#0d0887"
             ],
             [
              0.1111111111111111,
              "#46039f"
             ],
             [
              0.2222222222222222,
              "#7201a8"
             ],
             [
              0.3333333333333333,
              "#9c179e"
             ],
             [
              0.4444444444444444,
              "#bd3786"
             ],
             [
              0.5555555555555556,
              "#d8576b"
             ],
             [
              0.6666666666666666,
              "#ed7953"
             ],
             [
              0.7777777777777778,
              "#fb9f3a"
             ],
             [
              0.8888888888888888,
              "#fdca26"
             ],
             [
              1,
              "#f0f921"
             ]
            ],
            "type": "histogram2d"
           }
          ],
          "histogram2dcontour": [
           {
            "colorbar": {
             "outlinewidth": 0,
             "ticks": ""
            },
            "colorscale": [
             [
              0,
              "#0d0887"
             ],
             [
              0.1111111111111111,
              "#46039f"
             ],
             [
              0.2222222222222222,
              "#7201a8"
             ],
             [
              0.3333333333333333,
              "#9c179e"
             ],
             [
              0.4444444444444444,
              "#bd3786"
             ],
             [
              0.5555555555555556,
              "#d8576b"
             ],
             [
              0.6666666666666666,
              "#ed7953"
             ],
             [
              0.7777777777777778,
              "#fb9f3a"
             ],
             [
              0.8888888888888888,
              "#fdca26"
             ],
             [
              1,
              "#f0f921"
             ]
            ],
            "type": "histogram2dcontour"
           }
          ],
          "mesh3d": [
           {
            "colorbar": {
             "outlinewidth": 0,
             "ticks": ""
            },
            "type": "mesh3d"
           }
          ],
          "parcoords": [
           {
            "line": {
             "colorbar": {
              "outlinewidth": 0,
              "ticks": ""
             }
            },
            "type": "parcoords"
           }
          ],
          "pie": [
           {
            "automargin": true,
            "type": "pie"
           }
          ],
          "scatter": [
           {
            "fillpattern": {
             "fillmode": "overlay",
             "size": 10,
             "solidity": 0.2
            },
            "type": "scatter"
           }
          ],
          "scatter3d": [
           {
            "line": {
             "colorbar": {
              "outlinewidth": 0,
              "ticks": ""
             }
            },
            "marker": {
             "colorbar": {
              "outlinewidth": 0,
              "ticks": ""
             }
            },
            "type": "scatter3d"
           }
          ],
          "scattercarpet": [
           {
            "marker": {
             "colorbar": {
              "outlinewidth": 0,
              "ticks": ""
             }
            },
            "type": "scattercarpet"
           }
          ],
          "scattergeo": [
           {
            "marker": {
             "colorbar": {
              "outlinewidth": 0,
              "ticks": ""
             }
            },
            "type": "scattergeo"
           }
          ],
          "scattergl": [
           {
            "marker": {
             "colorbar": {
              "outlinewidth": 0,
              "ticks": ""
             }
            },
            "type": "scattergl"
           }
          ],
          "scattermap": [
           {
            "marker": {
             "colorbar": {
              "outlinewidth": 0,
              "ticks": ""
             }
            },
            "type": "scattermap"
           }
          ],
          "scattermapbox": [
           {
            "marker": {
             "colorbar": {
              "outlinewidth": 0,
              "ticks": ""
             }
            },
            "type": "scattermapbox"
           }
          ],
          "scatterpolar": [
           {
            "marker": {
             "colorbar": {
              "outlinewidth": 0,
              "ticks": ""
             }
            },
            "type": "scatterpolar"
           }
          ],
          "scatterpolargl": [
           {
            "marker": {
             "colorbar": {
              "outlinewidth": 0,
              "ticks": ""
             }
            },
            "type": "scatterpolargl"
           }
          ],
          "scatterternary": [
           {
            "marker": {
             "colorbar": {
              "outlinewidth": 0,
              "ticks": ""
             }
            },
            "type": "scatterternary"
           }
          ],
          "surface": [
           {
            "colorbar": {
             "outlinewidth": 0,
             "ticks": ""
            },
            "colorscale": [
             [
              0,
              "#0d0887"
             ],
             [
              0.1111111111111111,
              "#46039f"
             ],
             [
              0.2222222222222222,
              "#7201a8"
             ],
             [
              0.3333333333333333,
              "#9c179e"
             ],
             [
              0.4444444444444444,
              "#bd3786"
             ],
             [
              0.5555555555555556,
              "#d8576b"
             ],
             [
              0.6666666666666666,
              "#ed7953"
             ],
             [
              0.7777777777777778,
              "#fb9f3a"
             ],
             [
              0.8888888888888888,
              "#fdca26"
             ],
             [
              1,
              "#f0f921"
             ]
            ],
            "type": "surface"
           }
          ],
          "table": [
           {
            "cells": {
             "fill": {
              "color": "#EBF0F8"
             },
             "line": {
              "color": "white"
             }
            },
            "header": {
             "fill": {
              "color": "#C8D4E3"
             },
             "line": {
              "color": "white"
             }
            },
            "type": "table"
           }
          ]
         },
         "layout": {
          "annotationdefaults": {
           "arrowcolor": "#2a3f5f",
           "arrowhead": 0,
           "arrowwidth": 1
          },
          "autotypenumbers": "strict",
          "coloraxis": {
           "colorbar": {
            "outlinewidth": 0,
            "ticks": ""
           }
          },
          "colorscale": {
           "diverging": [
            [
             0,
             "#8e0152"
            ],
            [
             0.1,
             "#c51b7d"
            ],
            [
             0.2,
             "#de77ae"
            ],
            [
             0.3,
             "#f1b6da"
            ],
            [
             0.4,
             "#fde0ef"
            ],
            [
             0.5,
             "#f7f7f7"
            ],
            [
             0.6,
             "#e6f5d0"
            ],
            [
             0.7,
             "#b8e186"
            ],
            [
             0.8,
             "#7fbc41"
            ],
            [
             0.9,
             "#4d9221"
            ],
            [
             1,
             "#276419"
            ]
           ],
           "sequential": [
            [
             0,
             "#0d0887"
            ],
            [
             0.1111111111111111,
             "#46039f"
            ],
            [
             0.2222222222222222,
             "#7201a8"
            ],
            [
             0.3333333333333333,
             "#9c179e"
            ],
            [
             0.4444444444444444,
             "#bd3786"
            ],
            [
             0.5555555555555556,
             "#d8576b"
            ],
            [
             0.6666666666666666,
             "#ed7953"
            ],
            [
             0.7777777777777778,
             "#fb9f3a"
            ],
            [
             0.8888888888888888,
             "#fdca26"
            ],
            [
             1,
             "#f0f921"
            ]
           ],
           "sequentialminus": [
            [
             0,
             "#0d0887"
            ],
            [
             0.1111111111111111,
             "#46039f"
            ],
            [
             0.2222222222222222,
             "#7201a8"
            ],
            [
             0.3333333333333333,
             "#9c179e"
            ],
            [
             0.4444444444444444,
             "#bd3786"
            ],
            [
             0.5555555555555556,
             "#d8576b"
            ],
            [
             0.6666666666666666,
             "#ed7953"
            ],
            [
             0.7777777777777778,
             "#fb9f3a"
            ],
            [
             0.8888888888888888,
             "#fdca26"
            ],
            [
             1,
             "#f0f921"
            ]
           ]
          },
          "colorway": [
           "#636efa",
           "#EF553B",
           "#00cc96",
           "#ab63fa",
           "#FFA15A",
           "#19d3f3",
           "#FF6692",
           "#B6E880",
           "#FF97FF",
           "#FECB52"
          ],
          "font": {
           "color": "#2a3f5f"
          },
          "geo": {
           "bgcolor": "white",
           "lakecolor": "white",
           "landcolor": "#E5ECF6",
           "showlakes": true,
           "showland": true,
           "subunitcolor": "white"
          },
          "hoverlabel": {
           "align": "left"
          },
          "hovermode": "closest",
          "mapbox": {
           "style": "light"
          },
          "paper_bgcolor": "white",
          "plot_bgcolor": "#E5ECF6",
          "polar": {
           "angularaxis": {
            "gridcolor": "white",
            "linecolor": "white",
            "ticks": ""
           },
           "bgcolor": "#E5ECF6",
           "radialaxis": {
            "gridcolor": "white",
            "linecolor": "white",
            "ticks": ""
           }
          },
          "scene": {
           "xaxis": {
            "backgroundcolor": "#E5ECF6",
            "gridcolor": "white",
            "gridwidth": 2,
            "linecolor": "white",
            "showbackground": true,
            "ticks": "",
            "zerolinecolor": "white"
           },
           "yaxis": {
            "backgroundcolor": "#E5ECF6",
            "gridcolor": "white",
            "gridwidth": 2,
            "linecolor": "white",
            "showbackground": true,
            "ticks": "",
            "zerolinecolor": "white"
           },
           "zaxis": {
            "backgroundcolor": "#E5ECF6",
            "gridcolor": "white",
            "gridwidth": 2,
            "linecolor": "white",
            "showbackground": true,
            "ticks": "",
            "zerolinecolor": "white"
           }
          },
          "shapedefaults": {
           "line": {
            "color": "#2a3f5f"
           }
          },
          "ternary": {
           "aaxis": {
            "gridcolor": "white",
            "linecolor": "white",
            "ticks": ""
           },
           "baxis": {
            "gridcolor": "white",
            "linecolor": "white",
            "ticks": ""
           },
           "bgcolor": "#E5ECF6",
           "caxis": {
            "gridcolor": "white",
            "linecolor": "white",
            "ticks": ""
           }
          },
          "title": {
           "x": 0.05
          },
          "xaxis": {
           "automargin": true,
           "gridcolor": "white",
           "linecolor": "white",
           "ticks": "",
           "title": {
            "standoff": 15
           },
           "zerolinecolor": "white",
           "zerolinewidth": 2
          },
          "yaxis": {
           "automargin": true,
           "gridcolor": "white",
           "linecolor": "white",
           "ticks": "",
           "title": {
            "standoff": 15
           },
           "zerolinecolor": "white",
           "zerolinewidth": 2
          }
         }
        },
        "title": {
         "text": "Top 15 ZIP Codes by Complaint Count"
        },
        "xaxis": {
         "anchor": "y",
         "domain": [
          0,
          1
         ],
         "title": {
          "text": "ZIP Code"
         }
        },
        "yaxis": {
         "anchor": "x",
         "domain": [
          0,
          1
         ],
         "title": {
          "text": "Number of Complaints"
         }
        }
       }
      },
      "text/html": [
       "<div>            <script src=\"https://cdnjs.cloudflare.com/ajax/libs/mathjax/2.7.5/MathJax.js?config=TeX-AMS-MML_SVG\"></script><script type=\"text/javascript\">if (window.MathJax && window.MathJax.Hub && window.MathJax.Hub.Config) {window.MathJax.Hub.Config({SVG: {font: \"STIX-Web\"}});}</script>                <script type=\"text/javascript\">window.PlotlyConfig = {MathJaxConfig: 'local'};</script>\n",
       "        <script charset=\"utf-8\" src=\"https://cdn.plot.ly/plotly-3.1.0.min.js\" integrity=\"sha256-Ei4740bWZhaUTQuD6q9yQlgVCMPBz6CZWhevDYPv93A=\" crossorigin=\"anonymous\"></script>                <div id=\"405b816d-ba21-4917-8a21-5caabb23e529\" class=\"plotly-graph-div\" style=\"height:525px; width:100%;\"></div>            <script type=\"text/javascript\">                window.PLOTLYENV=window.PLOTLYENV || {};                                if (document.getElementById(\"405b816d-ba21-4917-8a21-5caabb23e529\")) {                    Plotly.newPlot(                        \"405b816d-ba21-4917-8a21-5caabb23e529\",                        [{\"hovertemplate\":\"zipcode=%{x}\\u003cbr\\u003ecount=%{y}\\u003cextra\\u003e\\u003c\\u002fextra\\u003e\",\"legendgroup\":\"\",\"marker\":{\"color\":\"#636efa\",\"pattern\":{\"shape\":\"\"}},\"name\":\"\",\"orientation\":\"v\",\"showlegend\":false,\"textposition\":\"auto\",\"x\":[\"00000\",\"300Xx\",\"48382\",\"750Xx\",\"900Xx\",\"770Xx\",\"331Xx\",\"945Xx\",\"330Xx\",\"606Xx\",\"891Xx\",\"207Xx\",\"334Xx\",\"33071\",\"112Xx\"],\"xaxis\":\"x\",\"y\":{\"dtype\":\"i2\",\"bdata\":\"mRG1BJ8DggNNA00DSAMwA\\u002f4C+ALnAqYClAJ9Al0C\"},\"yaxis\":\"y\",\"type\":\"bar\"}],                        {\"template\":{\"data\":{\"histogram2dcontour\":[{\"type\":\"histogram2dcontour\",\"colorbar\":{\"outlinewidth\":0,\"ticks\":\"\"},\"colorscale\":[[0.0,\"#0d0887\"],[0.1111111111111111,\"#46039f\"],[0.2222222222222222,\"#7201a8\"],[0.3333333333333333,\"#9c179e\"],[0.4444444444444444,\"#bd3786\"],[0.5555555555555556,\"#d8576b\"],[0.6666666666666666,\"#ed7953\"],[0.7777777777777778,\"#fb9f3a\"],[0.8888888888888888,\"#fdca26\"],[1.0,\"#f0f921\"]]}],\"choropleth\":[{\"type\":\"choropleth\",\"colorbar\":{\"outlinewidth\":0,\"ticks\":\"\"}}],\"histogram2d\":[{\"type\":\"histogram2d\",\"colorbar\":{\"outlinewidth\":0,\"ticks\":\"\"},\"colorscale\":[[0.0,\"#0d0887\"],[0.1111111111111111,\"#46039f\"],[0.2222222222222222,\"#7201a8\"],[0.3333333333333333,\"#9c179e\"],[0.4444444444444444,\"#bd3786\"],[0.5555555555555556,\"#d8576b\"],[0.6666666666666666,\"#ed7953\"],[0.7777777777777778,\"#fb9f3a\"],[0.8888888888888888,\"#fdca26\"],[1.0,\"#f0f921\"]]}],\"heatmap\":[{\"type\":\"heatmap\",\"colorbar\":{\"outlinewidth\":0,\"ticks\":\"\"},\"colorscale\":[[0.0,\"#0d0887\"],[0.1111111111111111,\"#46039f\"],[0.2222222222222222,\"#7201a8\"],[0.3333333333333333,\"#9c179e\"],[0.4444444444444444,\"#bd3786\"],[0.5555555555555556,\"#d8576b\"],[0.6666666666666666,\"#ed7953\"],[0.7777777777777778,\"#fb9f3a\"],[0.8888888888888888,\"#fdca26\"],[1.0,\"#f0f921\"]]}],\"contourcarpet\":[{\"type\":\"contourcarpet\",\"colorbar\":{\"outlinewidth\":0,\"ticks\":\"\"}}],\"contour\":[{\"type\":\"contour\",\"colorbar\":{\"outlinewidth\":0,\"ticks\":\"\"},\"colorscale\":[[0.0,\"#0d0887\"],[0.1111111111111111,\"#46039f\"],[0.2222222222222222,\"#7201a8\"],[0.3333333333333333,\"#9c179e\"],[0.4444444444444444,\"#bd3786\"],[0.5555555555555556,\"#d8576b\"],[0.6666666666666666,\"#ed7953\"],[0.7777777777777778,\"#fb9f3a\"],[0.8888888888888888,\"#fdca26\"],[1.0,\"#f0f921\"]]}],\"surface\":[{\"type\":\"surface\",\"colorbar\":{\"outlinewidth\":0,\"ticks\":\"\"},\"colorscale\":[[0.0,\"#0d0887\"],[0.1111111111111111,\"#46039f\"],[0.2222222222222222,\"#7201a8\"],[0.3333333333333333,\"#9c179e\"],[0.4444444444444444,\"#bd3786\"],[0.5555555555555556,\"#d8576b\"],[0.6666666666666666,\"#ed7953\"],[0.7777777777777778,\"#fb9f3a\"],[0.8888888888888888,\"#fdca26\"],[1.0,\"#f0f921\"]]}],\"mesh3d\":[{\"type\":\"mesh3d\",\"colorbar\":{\"outlinewidth\":0,\"ticks\":\"\"}}],\"scatter\":[{\"fillpattern\":{\"fillmode\":\"overlay\",\"size\":10,\"solidity\":0.2},\"type\":\"scatter\"}],\"parcoords\":[{\"type\":\"parcoords\",\"line\":{\"colorbar\":{\"outlinewidth\":0,\"ticks\":\"\"}}}],\"scatterpolargl\":[{\"type\":\"scatterpolargl\",\"marker\":{\"colorbar\":{\"outlinewidth\":0,\"ticks\":\"\"}}}],\"bar\":[{\"error_x\":{\"color\":\"#2a3f5f\"},\"error_y\":{\"color\":\"#2a3f5f\"},\"marker\":{\"line\":{\"color\":\"#E5ECF6\",\"width\":0.5},\"pattern\":{\"fillmode\":\"overlay\",\"size\":10,\"solidity\":0.2}},\"type\":\"bar\"}],\"scattergeo\":[{\"type\":\"scattergeo\",\"marker\":{\"colorbar\":{\"outlinewidth\":0,\"ticks\":\"\"}}}],\"scatterpolar\":[{\"type\":\"scatterpolar\",\"marker\":{\"colorbar\":{\"outlinewidth\":0,\"ticks\":\"\"}}}],\"histogram\":[{\"marker\":{\"pattern\":{\"fillmode\":\"overlay\",\"size\":10,\"solidity\":0.2}},\"type\":\"histogram\"}],\"scattergl\":[{\"type\":\"scattergl\",\"marker\":{\"colorbar\":{\"outlinewidth\":0,\"ticks\":\"\"}}}],\"scatter3d\":[{\"type\":\"scatter3d\",\"line\":{\"colorbar\":{\"outlinewidth\":0,\"ticks\":\"\"}},\"marker\":{\"colorbar\":{\"outlinewidth\":0,\"ticks\":\"\"}}}],\"scattermap\":[{\"type\":\"scattermap\",\"marker\":{\"colorbar\":{\"outlinewidth\":0,\"ticks\":\"\"}}}],\"scattermapbox\":[{\"type\":\"scattermapbox\",\"marker\":{\"colorbar\":{\"outlinewidth\":0,\"ticks\":\"\"}}}],\"scatterternary\":[{\"type\":\"scatterternary\",\"marker\":{\"colorbar\":{\"outlinewidth\":0,\"ticks\":\"\"}}}],\"scattercarpet\":[{\"type\":\"scattercarpet\",\"marker\":{\"colorbar\":{\"outlinewidth\":0,\"ticks\":\"\"}}}],\"carpet\":[{\"aaxis\":{\"endlinecolor\":\"#2a3f5f\",\"gridcolor\":\"white\",\"linecolor\":\"white\",\"minorgridcolor\":\"white\",\"startlinecolor\":\"#2a3f5f\"},\"baxis\":{\"endlinecolor\":\"#2a3f5f\",\"gridcolor\":\"white\",\"linecolor\":\"white\",\"minorgridcolor\":\"white\",\"startlinecolor\":\"#2a3f5f\"},\"type\":\"carpet\"}],\"table\":[{\"cells\":{\"fill\":{\"color\":\"#EBF0F8\"},\"line\":{\"color\":\"white\"}},\"header\":{\"fill\":{\"color\":\"#C8D4E3\"},\"line\":{\"color\":\"white\"}},\"type\":\"table\"}],\"barpolar\":[{\"marker\":{\"line\":{\"color\":\"#E5ECF6\",\"width\":0.5},\"pattern\":{\"fillmode\":\"overlay\",\"size\":10,\"solidity\":0.2}},\"type\":\"barpolar\"}],\"pie\":[{\"automargin\":true,\"type\":\"pie\"}]},\"layout\":{\"autotypenumbers\":\"strict\",\"colorway\":[\"#636efa\",\"#EF553B\",\"#00cc96\",\"#ab63fa\",\"#FFA15A\",\"#19d3f3\",\"#FF6692\",\"#B6E880\",\"#FF97FF\",\"#FECB52\"],\"font\":{\"color\":\"#2a3f5f\"},\"hovermode\":\"closest\",\"hoverlabel\":{\"align\":\"left\"},\"paper_bgcolor\":\"white\",\"plot_bgcolor\":\"#E5ECF6\",\"polar\":{\"bgcolor\":\"#E5ECF6\",\"angularaxis\":{\"gridcolor\":\"white\",\"linecolor\":\"white\",\"ticks\":\"\"},\"radialaxis\":{\"gridcolor\":\"white\",\"linecolor\":\"white\",\"ticks\":\"\"}},\"ternary\":{\"bgcolor\":\"#E5ECF6\",\"aaxis\":{\"gridcolor\":\"white\",\"linecolor\":\"white\",\"ticks\":\"\"},\"baxis\":{\"gridcolor\":\"white\",\"linecolor\":\"white\",\"ticks\":\"\"},\"caxis\":{\"gridcolor\":\"white\",\"linecolor\":\"white\",\"ticks\":\"\"}},\"coloraxis\":{\"colorbar\":{\"outlinewidth\":0,\"ticks\":\"\"}},\"colorscale\":{\"sequential\":[[0.0,\"#0d0887\"],[0.1111111111111111,\"#46039f\"],[0.2222222222222222,\"#7201a8\"],[0.3333333333333333,\"#9c179e\"],[0.4444444444444444,\"#bd3786\"],[0.5555555555555556,\"#d8576b\"],[0.6666666666666666,\"#ed7953\"],[0.7777777777777778,\"#fb9f3a\"],[0.8888888888888888,\"#fdca26\"],[1.0,\"#f0f921\"]],\"sequentialminus\":[[0.0,\"#0d0887\"],[0.1111111111111111,\"#46039f\"],[0.2222222222222222,\"#7201a8\"],[0.3333333333333333,\"#9c179e\"],[0.4444444444444444,\"#bd3786\"],[0.5555555555555556,\"#d8576b\"],[0.6666666666666666,\"#ed7953\"],[0.7777777777777778,\"#fb9f3a\"],[0.8888888888888888,\"#fdca26\"],[1.0,\"#f0f921\"]],\"diverging\":[[0,\"#8e0152\"],[0.1,\"#c51b7d\"],[0.2,\"#de77ae\"],[0.3,\"#f1b6da\"],[0.4,\"#fde0ef\"],[0.5,\"#f7f7f7\"],[0.6,\"#e6f5d0\"],[0.7,\"#b8e186\"],[0.8,\"#7fbc41\"],[0.9,\"#4d9221\"],[1,\"#276419\"]]},\"xaxis\":{\"gridcolor\":\"white\",\"linecolor\":\"white\",\"ticks\":\"\",\"title\":{\"standoff\":15},\"zerolinecolor\":\"white\",\"automargin\":true,\"zerolinewidth\":2},\"yaxis\":{\"gridcolor\":\"white\",\"linecolor\":\"white\",\"ticks\":\"\",\"title\":{\"standoff\":15},\"zerolinecolor\":\"white\",\"automargin\":true,\"zerolinewidth\":2},\"scene\":{\"xaxis\":{\"backgroundcolor\":\"#E5ECF6\",\"gridcolor\":\"white\",\"linecolor\":\"white\",\"showbackground\":true,\"ticks\":\"\",\"zerolinecolor\":\"white\",\"gridwidth\":2},\"yaxis\":{\"backgroundcolor\":\"#E5ECF6\",\"gridcolor\":\"white\",\"linecolor\":\"white\",\"showbackground\":true,\"ticks\":\"\",\"zerolinecolor\":\"white\",\"gridwidth\":2},\"zaxis\":{\"backgroundcolor\":\"#E5ECF6\",\"gridcolor\":\"white\",\"linecolor\":\"white\",\"showbackground\":true,\"ticks\":\"\",\"zerolinecolor\":\"white\",\"gridwidth\":2}},\"shapedefaults\":{\"line\":{\"color\":\"#2a3f5f\"}},\"annotationdefaults\":{\"arrowcolor\":\"#2a3f5f\",\"arrowhead\":0,\"arrowwidth\":1},\"geo\":{\"bgcolor\":\"white\",\"landcolor\":\"#E5ECF6\",\"subunitcolor\":\"white\",\"showland\":true,\"showlakes\":true,\"lakecolor\":\"white\"},\"title\":{\"x\":0.05},\"mapbox\":{\"style\":\"light\"}}},\"xaxis\":{\"anchor\":\"y\",\"domain\":[0.0,1.0],\"title\":{\"text\":\"ZIP Code\"}},\"yaxis\":{\"anchor\":\"x\",\"domain\":[0.0,1.0],\"title\":{\"text\":\"Number of Complaints\"}},\"legend\":{\"tracegroupgap\":0},\"title\":{\"text\":\"Top 15 ZIP Codes by Complaint Count\"},\"barmode\":\"relative\"},                        {\"responsive\": true}                    ).then(function(){\n",
       "                            \n",
       "var gd = document.getElementById('405b816d-ba21-4917-8a21-5caabb23e529');\n",
       "var x = new MutationObserver(function (mutations, observer) {{\n",
       "        var display = window.getComputedStyle(gd).display;\n",
       "        if (!display || display === 'none') {{\n",
       "            console.log([gd, 'removed!']);\n",
       "            Plotly.purge(gd);\n",
       "            observer.disconnect();\n",
       "        }}\n",
       "}});\n",
       "\n",
       "// Listen for the removal of the full notebook cells\n",
       "var notebookContainer = gd.closest('#notebook-container');\n",
       "if (notebookContainer) {{\n",
       "    x.observe(notebookContainer, {childList: true});\n",
       "}}\n",
       "\n",
       "// Listen for the clearing of the current output cell\n",
       "var outputEl = gd.closest('.output');\n",
       "if (outputEl) {{\n",
       "    x.observe(outputEl, {childList: true});\n",
       "}}\n",
       "\n",
       "                        })                };            </script>        </div>"
      ]
     },
     "metadata": {},
     "output_type": "display_data"
    }
   ],
   "source": [
    "zip_counts = df['zipcode'].value_counts().reset_index()\n",
    "zip_counts.columns = ['zipcode', 'count']\n",
    "\n",
    "fig = px.bar(\n",
    "    zip_counts.head(15),\n",
    "    x='zipcode', \n",
    "    y='count',\n",
    "    title='Top 15 ZIP Codes by Complaint Count'\n",
    ")\n",
    "fig.update_xaxes(title='ZIP Code')\n",
    "fig.update_yaxes(title='Number of Complaints')\n",
    "fig.show()"
   ]
  },
  {
   "cell_type": "code",
   "execution_count": 245,
   "id": "715cd3a3",
   "metadata": {},
   "outputs": [],
   "source": [
    "df.head(20).to_csv('cleaned_complaints_data.csv', index=False)"
   ]
  },
  {
   "cell_type": "markdown",
   "id": "7eff482c",
   "metadata": {},
   "source": [
    "## CONCLUSION:\n",
    "\n",
    "• Total of 555957 finance complaints year 2015 had the most finance complaints with an amount of 168621 complaints\n",
    "\n",
    "• The average response time was 0.03 days following the fact that CFPB only allows 0-15 days\n",
    "\n",
    "•Maximum number of complaints is regarding Mortgage\n",
    "\n",
    "•Maximum number of issues reported by consumers is regarding Loan Modification,Collection and Foreclosure\n",
    "\n",
    "•Bank of America has received the maximum complaints\n",
    "\n",
    "• A total of 3605 companies had complaints filed against them\n",
    "\n",
    "•In more than 70% cases the consumer is provided with explanation by the company\n",
    "\n",
    "•State of California has received the most complaints"
   ]
  }
 ],
 "metadata": {
  "kernelspec": {
   "display_name": "Python 3",
   "language": "python",
   "name": "python3"
  },
  "language_info": {
   "codemirror_mode": {
    "name": "ipython",
    "version": 3
   },
   "file_extension": ".py",
   "mimetype": "text/x-python",
   "name": "python",
   "nbconvert_exporter": "python",
   "pygments_lexer": "ipython3",
   "version": "3.13.7"
  }
 },
 "nbformat": 4,
 "nbformat_minor": 5
}
